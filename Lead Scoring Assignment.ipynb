{
 "cells": [
  {
   "cell_type": "code",
   "execution_count": 1,
   "metadata": {},
   "outputs": [],
   "source": [
    "import numpy as np\n",
    "import pandas as pd\n",
    "import matplotlib.pyplot as plt\n",
    "import seaborn as sns"
   ]
  },
  {
   "cell_type": "markdown",
   "metadata": {},
   "source": [
    "- Read CSV file"
   ]
  },
  {
   "cell_type": "code",
   "execution_count": 2,
   "metadata": {},
   "outputs": [],
   "source": [
    "lead=pd.read_csv('C:\\\\UpGrad\\\\Logistic Regression\\\\Lead+Scoring+Case+Study\\\\Lead Scoring Assignment\\\\Leads.csv')"
   ]
  },
  {
   "cell_type": "code",
   "execution_count": 3,
   "metadata": {},
   "outputs": [
    {
     "name": "stdout",
     "output_type": "stream",
     "text": [
      "<class 'pandas.core.frame.DataFrame'>\n",
      "RangeIndex: 9240 entries, 0 to 9239\n",
      "Data columns (total 37 columns):\n",
      "Prospect ID                                      9240 non-null object\n",
      "Lead Number                                      9240 non-null int64\n",
      "Lead Origin                                      9240 non-null object\n",
      "Lead Source                                      9204 non-null object\n",
      "Do Not Email                                     9240 non-null object\n",
      "Do Not Call                                      9240 non-null object\n",
      "Converted                                        9240 non-null int64\n",
      "TotalVisits                                      9103 non-null float64\n",
      "Total Time Spent on Website                      9240 non-null int64\n",
      "Page Views Per Visit                             9103 non-null float64\n",
      "Last Activity                                    9137 non-null object\n",
      "Country                                          6779 non-null object\n",
      "Specialization                                   7802 non-null object\n",
      "How did you hear about X Education               7033 non-null object\n",
      "What is your current occupation                  6550 non-null object\n",
      "What matters most to you in choosing a course    6531 non-null object\n",
      "Search                                           9240 non-null object\n",
      "Magazine                                         9240 non-null object\n",
      "Newspaper Article                                9240 non-null object\n",
      "X Education Forums                               9240 non-null object\n",
      "Newspaper                                        9240 non-null object\n",
      "Digital Advertisement                            9240 non-null object\n",
      "Through Recommendations                          9240 non-null object\n",
      "Receive More Updates About Our Courses           9240 non-null object\n",
      "Tags                                             5887 non-null object\n",
      "Lead Quality                                     4473 non-null object\n",
      "Update me on Supply Chain Content                9240 non-null object\n",
      "Get updates on DM Content                        9240 non-null object\n",
      "Lead Profile                                     6531 non-null object\n",
      "City                                             7820 non-null object\n",
      "Asymmetrique Activity Index                      5022 non-null object\n",
      "Asymmetrique Profile Index                       5022 non-null object\n",
      "Asymmetrique Activity Score                      5022 non-null float64\n",
      "Asymmetrique Profile Score                       5022 non-null float64\n",
      "I agree to pay the amount through cheque         9240 non-null object\n",
      "A free copy of Mastering The Interview           9240 non-null object\n",
      "Last Notable Activity                            9240 non-null object\n",
      "dtypes: float64(4), int64(3), object(30)\n",
      "memory usage: 2.6+ MB\n"
     ]
    }
   ],
   "source": [
    "lead.info()"
   ]
  },
  {
   "cell_type": "code",
   "execution_count": 4,
   "metadata": {},
   "outputs": [
    {
     "data": {
      "text/html": [
       "<div>\n",
       "<style scoped>\n",
       "    .dataframe tbody tr th:only-of-type {\n",
       "        vertical-align: middle;\n",
       "    }\n",
       "\n",
       "    .dataframe tbody tr th {\n",
       "        vertical-align: top;\n",
       "    }\n",
       "\n",
       "    .dataframe thead th {\n",
       "        text-align: right;\n",
       "    }\n",
       "</style>\n",
       "<table border=\"1\" class=\"dataframe\">\n",
       "  <thead>\n",
       "    <tr style=\"text-align: right;\">\n",
       "      <th></th>\n",
       "      <th>Lead Number</th>\n",
       "      <th>Converted</th>\n",
       "      <th>TotalVisits</th>\n",
       "      <th>Total Time Spent on Website</th>\n",
       "      <th>Page Views Per Visit</th>\n",
       "      <th>Asymmetrique Activity Score</th>\n",
       "      <th>Asymmetrique Profile Score</th>\n",
       "    </tr>\n",
       "  </thead>\n",
       "  <tbody>\n",
       "    <tr>\n",
       "      <th>count</th>\n",
       "      <td>9240.000000</td>\n",
       "      <td>9240.000000</td>\n",
       "      <td>9103.000000</td>\n",
       "      <td>9240.000000</td>\n",
       "      <td>9103.000000</td>\n",
       "      <td>5022.000000</td>\n",
       "      <td>5022.000000</td>\n",
       "    </tr>\n",
       "    <tr>\n",
       "      <th>mean</th>\n",
       "      <td>617188.435606</td>\n",
       "      <td>0.385390</td>\n",
       "      <td>3.445238</td>\n",
       "      <td>487.698268</td>\n",
       "      <td>2.362820</td>\n",
       "      <td>14.306252</td>\n",
       "      <td>16.344883</td>\n",
       "    </tr>\n",
       "    <tr>\n",
       "      <th>std</th>\n",
       "      <td>23405.995698</td>\n",
       "      <td>0.486714</td>\n",
       "      <td>4.854853</td>\n",
       "      <td>548.021466</td>\n",
       "      <td>2.161418</td>\n",
       "      <td>1.386694</td>\n",
       "      <td>1.811395</td>\n",
       "    </tr>\n",
       "    <tr>\n",
       "      <th>min</th>\n",
       "      <td>579533.000000</td>\n",
       "      <td>0.000000</td>\n",
       "      <td>0.000000</td>\n",
       "      <td>0.000000</td>\n",
       "      <td>0.000000</td>\n",
       "      <td>7.000000</td>\n",
       "      <td>11.000000</td>\n",
       "    </tr>\n",
       "    <tr>\n",
       "      <th>50%</th>\n",
       "      <td>615479.000000</td>\n",
       "      <td>0.000000</td>\n",
       "      <td>3.000000</td>\n",
       "      <td>248.000000</td>\n",
       "      <td>2.000000</td>\n",
       "      <td>14.000000</td>\n",
       "      <td>16.000000</td>\n",
       "    </tr>\n",
       "    <tr>\n",
       "      <th>95%</th>\n",
       "      <td>655404.050000</td>\n",
       "      <td>1.000000</td>\n",
       "      <td>10.000000</td>\n",
       "      <td>1562.000000</td>\n",
       "      <td>6.000000</td>\n",
       "      <td>17.000000</td>\n",
       "      <td>20.000000</td>\n",
       "    </tr>\n",
       "    <tr>\n",
       "      <th>max</th>\n",
       "      <td>660737.000000</td>\n",
       "      <td>1.000000</td>\n",
       "      <td>251.000000</td>\n",
       "      <td>2272.000000</td>\n",
       "      <td>55.000000</td>\n",
       "      <td>18.000000</td>\n",
       "      <td>20.000000</td>\n",
       "    </tr>\n",
       "  </tbody>\n",
       "</table>\n",
       "</div>"
      ],
      "text/plain": [
       "         Lead Number    Converted  TotalVisits  Total Time Spent on Website  \\\n",
       "count    9240.000000  9240.000000  9103.000000                  9240.000000   \n",
       "mean   617188.435606     0.385390     3.445238                   487.698268   \n",
       "std     23405.995698     0.486714     4.854853                   548.021466   \n",
       "min    579533.000000     0.000000     0.000000                     0.000000   \n",
       "50%    615479.000000     0.000000     3.000000                   248.000000   \n",
       "95%    655404.050000     1.000000    10.000000                  1562.000000   \n",
       "max    660737.000000     1.000000   251.000000                  2272.000000   \n",
       "\n",
       "       Page Views Per Visit  Asymmetrique Activity Score  \\\n",
       "count           9103.000000                  5022.000000   \n",
       "mean               2.362820                    14.306252   \n",
       "std                2.161418                     1.386694   \n",
       "min                0.000000                     7.000000   \n",
       "50%                2.000000                    14.000000   \n",
       "95%                6.000000                    17.000000   \n",
       "max               55.000000                    18.000000   \n",
       "\n",
       "       Asymmetrique Profile Score  \n",
       "count                 5022.000000  \n",
       "mean                    16.344883  \n",
       "std                      1.811395  \n",
       "min                     11.000000  \n",
       "50%                     16.000000  \n",
       "95%                     20.000000  \n",
       "max                     20.000000  "
      ]
     },
     "execution_count": 4,
     "metadata": {},
     "output_type": "execute_result"
    }
   ],
   "source": [
    "lead.describe(percentiles=[0.95])"
   ]
  },
  {
   "cell_type": "code",
   "execution_count": 5,
   "metadata": {},
   "outputs": [
    {
     "data": {
      "text/plain": [
       "3"
      ]
     },
     "execution_count": 5,
     "metadata": {},
     "output_type": "execute_result"
    }
   ],
   "source": [
    "round(lead['TotalVisits'].mean())"
   ]
  },
  {
   "cell_type": "code",
   "execution_count": 6,
   "metadata": {},
   "outputs": [
    {
     "data": {
      "text/plain": [
       "Prospect ID                                       0.000000\n",
       "Lead Number                                       0.000000\n",
       "Lead Origin                                       0.000000\n",
       "Lead Source                                       0.389610\n",
       "Do Not Email                                      0.000000\n",
       "Do Not Call                                       0.000000\n",
       "Converted                                         0.000000\n",
       "TotalVisits                                       1.482684\n",
       "Total Time Spent on Website                       0.000000\n",
       "Page Views Per Visit                              1.482684\n",
       "Last Activity                                     1.114719\n",
       "Country                                          26.634199\n",
       "Specialization                                   15.562771\n",
       "How did you hear about X Education               23.885281\n",
       "What is your current occupation                  29.112554\n",
       "What matters most to you in choosing a course    29.318182\n",
       "Search                                            0.000000\n",
       "Magazine                                          0.000000\n",
       "Newspaper Article                                 0.000000\n",
       "X Education Forums                                0.000000\n",
       "Newspaper                                         0.000000\n",
       "Digital Advertisement                             0.000000\n",
       "Through Recommendations                           0.000000\n",
       "Receive More Updates About Our Courses            0.000000\n",
       "Tags                                             36.287879\n",
       "Lead Quality                                     51.590909\n",
       "Update me on Supply Chain Content                 0.000000\n",
       "Get updates on DM Content                         0.000000\n",
       "Lead Profile                                     29.318182\n",
       "City                                             15.367965\n",
       "Asymmetrique Activity Index                      45.649351\n",
       "Asymmetrique Profile Index                       45.649351\n",
       "Asymmetrique Activity Score                      45.649351\n",
       "Asymmetrique Profile Score                       45.649351\n",
       "I agree to pay the amount through cheque          0.000000\n",
       "A free copy of Mastering The Interview            0.000000\n",
       "Last Notable Activity                             0.000000\n",
       "dtype: float64"
      ]
     },
     "execution_count": 6,
     "metadata": {},
     "output_type": "execute_result"
    }
   ],
   "source": [
    "(lead.isnull().sum()/len(lead))*100"
   ]
  },
  {
   "cell_type": "markdown",
   "metadata": {},
   "source": [
    "- We can see that high no of null values in columns, we drop column which have more that 30% of null values"
   ]
  },
  {
   "cell_type": "code",
   "execution_count": 7,
   "metadata": {},
   "outputs": [],
   "source": [
    "lead.drop_duplicates(inplace=True)"
   ]
  },
  {
   "cell_type": "code",
   "execution_count": 8,
   "metadata": {},
   "outputs": [
    {
     "data": {
      "text/plain": [
       "(9240, 37)"
      ]
     },
     "execution_count": 8,
     "metadata": {},
     "output_type": "execute_result"
    }
   ],
   "source": [
    "lead.shape"
   ]
  },
  {
   "cell_type": "markdown",
   "metadata": {},
   "source": [
    "- We drop the columns with single value as it will not be able to produce any useful result."
   ]
  },
  {
   "cell_type": "code",
   "execution_count": 9,
   "metadata": {},
   "outputs": [
    {
     "data": {
      "text/plain": [
       "array(['No'], dtype=object)"
      ]
     },
     "execution_count": 9,
     "metadata": {},
     "output_type": "execute_result"
    }
   ],
   "source": [
    "np.unique(lead.Magazine)"
   ]
  },
  {
   "cell_type": "code",
   "execution_count": 10,
   "metadata": {},
   "outputs": [
    {
     "data": {
      "text/plain": [
       "array(['No'], dtype=object)"
      ]
     },
     "execution_count": 10,
     "metadata": {},
     "output_type": "execute_result"
    }
   ],
   "source": [
    "np.unique(lead['Receive More Updates About Our Courses'])"
   ]
  },
  {
   "cell_type": "code",
   "execution_count": 11,
   "metadata": {},
   "outputs": [
    {
     "data": {
      "text/plain": [
       "array(['No'], dtype=object)"
      ]
     },
     "execution_count": 11,
     "metadata": {},
     "output_type": "execute_result"
    }
   ],
   "source": [
    "np.unique(lead['Update me on Supply Chain Content'])"
   ]
  },
  {
   "cell_type": "code",
   "execution_count": 12,
   "metadata": {},
   "outputs": [
    {
     "data": {
      "text/plain": [
       "array(['No'], dtype=object)"
      ]
     },
     "execution_count": 12,
     "metadata": {},
     "output_type": "execute_result"
    }
   ],
   "source": [
    "np.unique(lead['Get updates on DM Content'])"
   ]
  },
  {
   "cell_type": "code",
   "execution_count": 13,
   "metadata": {},
   "outputs": [
    {
     "data": {
      "text/plain": [
       "array(['No'], dtype=object)"
      ]
     },
     "execution_count": 13,
     "metadata": {},
     "output_type": "execute_result"
    }
   ],
   "source": [
    "np.unique(lead['I agree to pay the amount through cheque'])"
   ]
  },
  {
   "cell_type": "code",
   "execution_count": 14,
   "metadata": {},
   "outputs": [],
   "source": [
    "lead.drop(['Magazine','Receive More Updates About Our Courses','Update me on Supply Chain Content','Get updates on DM Content','I agree to pay the amount through cheque','Prospect ID','Lead Number','Last Activity','Tags'],axis=1,inplace=True)"
   ]
  },
  {
   "cell_type": "code",
   "execution_count": 15,
   "metadata": {},
   "outputs": [
    {
     "name": "stdout",
     "output_type": "stream",
     "text": [
      "<class 'pandas.core.frame.DataFrame'>\n",
      "Int64Index: 9240 entries, 0 to 9239\n",
      "Data columns (total 28 columns):\n",
      "Lead Origin                                      9240 non-null object\n",
      "Lead Source                                      9204 non-null object\n",
      "Do Not Email                                     9240 non-null object\n",
      "Do Not Call                                      9240 non-null object\n",
      "Converted                                        9240 non-null int64\n",
      "TotalVisits                                      9103 non-null float64\n",
      "Total Time Spent on Website                      9240 non-null int64\n",
      "Page Views Per Visit                             9103 non-null float64\n",
      "Country                                          6779 non-null object\n",
      "Specialization                                   7802 non-null object\n",
      "How did you hear about X Education               7033 non-null object\n",
      "What is your current occupation                  6550 non-null object\n",
      "What matters most to you in choosing a course    6531 non-null object\n",
      "Search                                           9240 non-null object\n",
      "Newspaper Article                                9240 non-null object\n",
      "X Education Forums                               9240 non-null object\n",
      "Newspaper                                        9240 non-null object\n",
      "Digital Advertisement                            9240 non-null object\n",
      "Through Recommendations                          9240 non-null object\n",
      "Lead Quality                                     4473 non-null object\n",
      "Lead Profile                                     6531 non-null object\n",
      "City                                             7820 non-null object\n",
      "Asymmetrique Activity Index                      5022 non-null object\n",
      "Asymmetrique Profile Index                       5022 non-null object\n",
      "Asymmetrique Activity Score                      5022 non-null float64\n",
      "Asymmetrique Profile Score                       5022 non-null float64\n",
      "A free copy of Mastering The Interview           9240 non-null object\n",
      "Last Notable Activity                            9240 non-null object\n",
      "dtypes: float64(4), int64(2), object(22)\n",
      "memory usage: 2.0+ MB\n"
     ]
    }
   ],
   "source": [
    "lead.info()"
   ]
  },
  {
   "cell_type": "code",
   "execution_count": 16,
   "metadata": {},
   "outputs": [
    {
     "data": {
      "text/plain": [
       "Lead Origin                                       0.000000\n",
       "Lead Source                                       0.389610\n",
       "Do Not Email                                      0.000000\n",
       "Do Not Call                                       0.000000\n",
       "Converted                                         0.000000\n",
       "TotalVisits                                       1.482684\n",
       "Total Time Spent on Website                       0.000000\n",
       "Page Views Per Visit                              1.482684\n",
       "Country                                          26.634199\n",
       "Specialization                                   15.562771\n",
       "How did you hear about X Education               23.885281\n",
       "What is your current occupation                  29.112554\n",
       "What matters most to you in choosing a course    29.318182\n",
       "Search                                            0.000000\n",
       "Newspaper Article                                 0.000000\n",
       "X Education Forums                                0.000000\n",
       "Newspaper                                         0.000000\n",
       "Digital Advertisement                             0.000000\n",
       "Through Recommendations                           0.000000\n",
       "Lead Quality                                     51.590909\n",
       "Lead Profile                                     29.318182\n",
       "City                                             15.367965\n",
       "Asymmetrique Activity Index                      45.649351\n",
       "Asymmetrique Profile Index                       45.649351\n",
       "Asymmetrique Activity Score                      45.649351\n",
       "Asymmetrique Profile Score                       45.649351\n",
       "A free copy of Mastering The Interview            0.000000\n",
       "Last Notable Activity                             0.000000\n",
       "dtype: float64"
      ]
     },
     "execution_count": 16,
     "metadata": {},
     "output_type": "execute_result"
    }
   ],
   "source": [
    "(lead.isnull().sum()/len(lead))*100"
   ]
  },
  {
   "cell_type": "code",
   "execution_count": 17,
   "metadata": {},
   "outputs": [
    {
     "data": {
      "text/plain": [
       "4767"
      ]
     },
     "execution_count": 17,
     "metadata": {},
     "output_type": "execute_result"
    }
   ],
   "source": [
    "lead['Lead Quality'].isnull().sum()"
   ]
  },
  {
   "cell_type": "code",
   "execution_count": 18,
   "metadata": {},
   "outputs": [
    {
     "data": {
      "text/plain": [
       "Google               2868\n",
       "Direct Traffic       2543\n",
       "Olark Chat           1755\n",
       "Organic Search       1154\n",
       "Reference             534\n",
       "Welingak Website      142\n",
       "Referral Sites        125\n",
       "Facebook               55\n",
       "bing                    6\n",
       "google                  5\n",
       "Click2call              4\n",
       "Press_Release           2\n",
       "Social Media            2\n",
       "Live Chat               2\n",
       "Pay per Click Ads       1\n",
       "welearnblog_Home        1\n",
       "NC_EDM                  1\n",
       "WeLearn                 1\n",
       "blog                    1\n",
       "testone                 1\n",
       "youtubechannel          1\n",
       "Name: Lead Source, dtype: int64"
      ]
     },
     "execution_count": 18,
     "metadata": {},
     "output_type": "execute_result"
    }
   ],
   "source": [
    "lead['Lead Source'].astype('category').value_counts()"
   ]
  },
  {
   "cell_type": "code",
   "execution_count": 19,
   "metadata": {},
   "outputs": [],
   "source": [
    "lead.loc[lead['Lead Source'].isnull(),'Lead Source']='Google'"
   ]
  },
  {
   "cell_type": "markdown",
   "metadata": {},
   "source": [
    "- Since the null % in lead source is within 1% we impute it with most occuring value."
   ]
  },
  {
   "cell_type": "markdown",
   "metadata": {},
   "source": [
    "- Imputing other numerical columns with mean value of column."
   ]
  },
  {
   "cell_type": "code",
   "execution_count": 20,
   "metadata": {},
   "outputs": [],
   "source": [
    "lead.loc[lead['TotalVisits'].isnull(),'TotalVisits']=round(lead['TotalVisits'].mean())"
   ]
  },
  {
   "cell_type": "code",
   "execution_count": 21,
   "metadata": {},
   "outputs": [],
   "source": [
    "lead.loc[lead['Page Views Per Visit'].isnull(),'Page Views Per Visit']=round(lead['Page Views Per Visit'].mean())"
   ]
  },
  {
   "cell_type": "code",
   "execution_count": 22,
   "metadata": {},
   "outputs": [],
   "source": [
    "lead.loc[lead['How did you hear about X Education']=='Select','How did you hear about X Education']=np.nan"
   ]
  },
  {
   "cell_type": "markdown",
   "metadata": {},
   "source": [
    "- Since select is a dropdown which is the default value when the user does not select any option this is populated.\n",
    "- So in some cases based on the buisiness requirement it is treated as null or other option"
   ]
  },
  {
   "cell_type": "code",
   "execution_count": 23,
   "metadata": {},
   "outputs": [],
   "source": [
    "lead.loc[(lead['Lead Profile']=='Select')|(lead['Lead Profile'].isnull()),'Lead Profile']='Other Leads'"
   ]
  },
  {
   "cell_type": "code",
   "execution_count": 24,
   "metadata": {},
   "outputs": [
    {
     "data": {
      "text/plain": [
       "Lead Origin                                       0.000000\n",
       "Lead Source                                       0.000000\n",
       "Do Not Email                                      0.000000\n",
       "Do Not Call                                       0.000000\n",
       "Converted                                         0.000000\n",
       "TotalVisits                                       0.000000\n",
       "Total Time Spent on Website                       0.000000\n",
       "Page Views Per Visit                              0.000000\n",
       "Country                                          26.634199\n",
       "Specialization                                   15.562771\n",
       "How did you hear about X Education               78.463203\n",
       "What is your current occupation                  29.112554\n",
       "What matters most to you in choosing a course    29.318182\n",
       "Search                                            0.000000\n",
       "Newspaper Article                                 0.000000\n",
       "X Education Forums                                0.000000\n",
       "Newspaper                                         0.000000\n",
       "Digital Advertisement                             0.000000\n",
       "Through Recommendations                           0.000000\n",
       "Lead Quality                                     51.590909\n",
       "Lead Profile                                      0.000000\n",
       "City                                             15.367965\n",
       "Asymmetrique Activity Index                      45.649351\n",
       "Asymmetrique Profile Index                       45.649351\n",
       "Asymmetrique Activity Score                      45.649351\n",
       "Asymmetrique Profile Score                       45.649351\n",
       "A free copy of Mastering The Interview            0.000000\n",
       "Last Notable Activity                             0.000000\n",
       "dtype: float64"
      ]
     },
     "execution_count": 24,
     "metadata": {},
     "output_type": "execute_result"
    }
   ],
   "source": [
    "(lead.isnull().sum()/len(lead))*100"
   ]
  },
  {
   "cell_type": "code",
   "execution_count": 25,
   "metadata": {},
   "outputs": [],
   "source": [
    "lead.drop(['How did you hear about X Education'],axis=1,inplace=True)"
   ]
  },
  {
   "cell_type": "code",
   "execution_count": 26,
   "metadata": {},
   "outputs": [
    {
     "data": {
      "text/plain": [
       "India                   6492\n",
       "United States             69\n",
       "United Arab Emirates      53\n",
       "Singapore                 24\n",
       "Saudi Arabia              21\n",
       "United Kingdom            15\n",
       "Australia                 13\n",
       "Qatar                     10\n",
       "Hong Kong                  7\n",
       "Bahrain                    7\n",
       "Oman                       6\n",
       "France                     6\n",
       "unknown                    5\n",
       "Kuwait                     4\n",
       "Germany                    4\n",
       "Canada                     4\n",
       "Nigeria                    4\n",
       "South Africa               4\n",
       "Sweden                     3\n",
       "China                      2\n",
       "Ghana                      2\n",
       "Philippines                2\n",
       "Netherlands                2\n",
       "Uganda                     2\n",
       "Italy                      2\n",
       "Bangladesh                 2\n",
       "Asia/Pacific Region        2\n",
       "Belgium                    2\n",
       "Denmark                    1\n",
       "Switzerland                1\n",
       "Malaysia                   1\n",
       "Vietnam                    1\n",
       "Indonesia                  1\n",
       "Tanzania                   1\n",
       "Kenya                      1\n",
       "Russia                     1\n",
       "Sri Lanka                  1\n",
       "Liberia                    1\n",
       "Name: Country, dtype: int64"
      ]
     },
     "execution_count": 26,
     "metadata": {},
     "output_type": "execute_result"
    }
   ],
   "source": [
    "lead['Country'].value_counts()"
   ]
  },
  {
   "cell_type": "code",
   "execution_count": 27,
   "metadata": {},
   "outputs": [],
   "source": [
    "lead.drop(['Country'],axis=1,inplace=True)"
   ]
  },
  {
   "cell_type": "code",
   "execution_count": 28,
   "metadata": {},
   "outputs": [
    {
     "data": {
      "text/plain": [
       "Might be             1560\n",
       "Not Sure             1092\n",
       "High in Relevance     637\n",
       "Worst                 601\n",
       "Low in Relevance      583\n",
       "Name: Lead Quality, dtype: int64"
      ]
     },
     "execution_count": 28,
     "metadata": {},
     "output_type": "execute_result"
    }
   ],
   "source": [
    "lead['Lead Quality'].value_counts()"
   ]
  },
  {
   "cell_type": "code",
   "execution_count": 29,
   "metadata": {},
   "outputs": [],
   "source": [
    "lead.drop(['Lead Quality'],axis=1,inplace=True)"
   ]
  },
  {
   "cell_type": "code",
   "execution_count": 30,
   "metadata": {},
   "outputs": [],
   "source": [
    "lead.drop(['Asymmetrique Activity Index', 'Asymmetrique Profile Index',\n",
    "       'Asymmetrique Activity Score', 'Asymmetrique Profile Score'],axis=1,inplace=True)"
   ]
  },
  {
   "cell_type": "markdown",
   "metadata": {},
   "source": [
    "- Dropping the above columns which have 45% of issing values."
   ]
  },
  {
   "cell_type": "code",
   "execution_count": 31,
   "metadata": {},
   "outputs": [
    {
     "data": {
      "text/plain": [
       "Select                               1942\n",
       "Finance Management                    976\n",
       "Human Resource Management             848\n",
       "Marketing Management                  838\n",
       "Operations Management                 503\n",
       "Business Administration               403\n",
       "IT Projects Management                366\n",
       "Supply Chain Management               349\n",
       "Banking, Investment And Insurance     338\n",
       "Travel and Tourism                    203\n",
       "Media and Advertising                 203\n",
       "International Business                178\n",
       "Healthcare Management                 159\n",
       "Hospitality Management                114\n",
       "E-COMMERCE                            112\n",
       "Retail Management                     100\n",
       "Rural and Agribusiness                 73\n",
       "E-Business                             57\n",
       "Services Excellence                    40\n",
       "Name: Specialization, dtype: int64"
      ]
     },
     "execution_count": 31,
     "metadata": {},
     "output_type": "execute_result"
    }
   ],
   "source": [
    "lead['Specialization'].value_counts()"
   ]
  },
  {
   "cell_type": "code",
   "execution_count": 32,
   "metadata": {},
   "outputs": [],
   "source": [
    "lead.loc[(lead['Specialization'].isnull())|(lead['Specialization']=='Select'),'Specialization']='Other'"
   ]
  },
  {
   "cell_type": "code",
   "execution_count": 33,
   "metadata": {},
   "outputs": [
    {
     "data": {
      "text/plain": [
       "Other                                3380\n",
       "Finance Management                    976\n",
       "Human Resource Management             848\n",
       "Marketing Management                  838\n",
       "Operations Management                 503\n",
       "Business Administration               403\n",
       "IT Projects Management                366\n",
       "Supply Chain Management               349\n",
       "Banking, Investment And Insurance     338\n",
       "Travel and Tourism                    203\n",
       "Media and Advertising                 203\n",
       "International Business                178\n",
       "Healthcare Management                 159\n",
       "Hospitality Management                114\n",
       "E-COMMERCE                            112\n",
       "Retail Management                     100\n",
       "Rural and Agribusiness                 73\n",
       "E-Business                             57\n",
       "Services Excellence                    40\n",
       "Name: Specialization, dtype: int64"
      ]
     },
     "execution_count": 33,
     "metadata": {},
     "output_type": "execute_result"
    }
   ],
   "source": [
    "lead['Specialization'].value_counts()"
   ]
  },
  {
   "cell_type": "code",
   "execution_count": 34,
   "metadata": {},
   "outputs": [
    {
     "data": {
      "text/plain": [
       "Unemployed              5600\n",
       "Working Professional     706\n",
       "Student                  210\n",
       "Other                     16\n",
       "Housewife                 10\n",
       "Businessman                8\n",
       "Name: What is your current occupation, dtype: int64"
      ]
     },
     "execution_count": 34,
     "metadata": {},
     "output_type": "execute_result"
    }
   ],
   "source": [
    "lead['What is your current occupation'].value_counts()"
   ]
  },
  {
   "cell_type": "code",
   "execution_count": 35,
   "metadata": {},
   "outputs": [],
   "source": [
    "lead.loc[lead['What is your current occupation'].isnull(),'What is your current occupation']='Other'"
   ]
  },
  {
   "cell_type": "code",
   "execution_count": 36,
   "metadata": {},
   "outputs": [
    {
     "data": {
      "text/plain": [
       "Better Career Prospects      6528\n",
       "Flexibility & Convenience       2\n",
       "Other                           1\n",
       "Name: What matters most to you in choosing a course, dtype: int64"
      ]
     },
     "execution_count": 36,
     "metadata": {},
     "output_type": "execute_result"
    }
   ],
   "source": [
    "lead['What matters most to you in choosing a course'].value_counts()"
   ]
  },
  {
   "cell_type": "code",
   "execution_count": 37,
   "metadata": {},
   "outputs": [],
   "source": [
    "lead.drop('What matters most to you in choosing a course',axis=1,inplace=True)"
   ]
  },
  {
   "cell_type": "code",
   "execution_count": 38,
   "metadata": {},
   "outputs": [
    {
     "data": {
      "text/plain": [
       "Mumbai                         3222\n",
       "Select                         2249\n",
       "Thane & Outskirts               752\n",
       "Other Cities                    686\n",
       "Other Cities of Maharashtra     457\n",
       "Other Metro Cities              380\n",
       "Tier II Cities                   74\n",
       "Name: City, dtype: int64"
      ]
     },
     "execution_count": 38,
     "metadata": {},
     "output_type": "execute_result"
    }
   ],
   "source": [
    "lead['City'].value_counts()"
   ]
  },
  {
   "cell_type": "code",
   "execution_count": 39,
   "metadata": {},
   "outputs": [],
   "source": [
    "lead.loc[(lead['City'].isnull())|(lead['City']=='Select'),'City']='Other Cities'"
   ]
  },
  {
   "cell_type": "code",
   "execution_count": 40,
   "metadata": {},
   "outputs": [
    {
     "data": {
      "text/plain": [
       "Lead Origin                               0.0\n",
       "Lead Source                               0.0\n",
       "Do Not Email                              0.0\n",
       "Do Not Call                               0.0\n",
       "Converted                                 0.0\n",
       "TotalVisits                               0.0\n",
       "Total Time Spent on Website               0.0\n",
       "Page Views Per Visit                      0.0\n",
       "Specialization                            0.0\n",
       "What is your current occupation           0.0\n",
       "Search                                    0.0\n",
       "Newspaper Article                         0.0\n",
       "X Education Forums                        0.0\n",
       "Newspaper                                 0.0\n",
       "Digital Advertisement                     0.0\n",
       "Through Recommendations                   0.0\n",
       "Lead Profile                              0.0\n",
       "City                                      0.0\n",
       "A free copy of Mastering The Interview    0.0\n",
       "Last Notable Activity                     0.0\n",
       "dtype: float64"
      ]
     },
     "execution_count": 40,
     "metadata": {},
     "output_type": "execute_result"
    }
   ],
   "source": [
    "(lead.isnull().sum()/len(lead))*100"
   ]
  },
  {
   "cell_type": "markdown",
   "metadata": {},
   "source": [
    "- No more nulls in dataframe."
   ]
  },
  {
   "cell_type": "code",
   "execution_count": 41,
   "metadata": {},
   "outputs": [
    {
     "name": "stdout",
     "output_type": "stream",
     "text": [
      "<class 'pandas.core.frame.DataFrame'>\n",
      "Int64Index: 9240 entries, 0 to 9239\n",
      "Data columns (total 20 columns):\n",
      "Lead Origin                               9240 non-null object\n",
      "Lead Source                               9240 non-null object\n",
      "Do Not Email                              9240 non-null object\n",
      "Do Not Call                               9240 non-null object\n",
      "Converted                                 9240 non-null int64\n",
      "TotalVisits                               9240 non-null float64\n",
      "Total Time Spent on Website               9240 non-null int64\n",
      "Page Views Per Visit                      9240 non-null float64\n",
      "Specialization                            9240 non-null object\n",
      "What is your current occupation           9240 non-null object\n",
      "Search                                    9240 non-null object\n",
      "Newspaper Article                         9240 non-null object\n",
      "X Education Forums                        9240 non-null object\n",
      "Newspaper                                 9240 non-null object\n",
      "Digital Advertisement                     9240 non-null object\n",
      "Through Recommendations                   9240 non-null object\n",
      "Lead Profile                              9240 non-null object\n",
      "City                                      9240 non-null object\n",
      "A free copy of Mastering The Interview    9240 non-null object\n",
      "Last Notable Activity                     9240 non-null object\n",
      "dtypes: float64(2), int64(2), object(16)\n",
      "memory usage: 1.5+ MB\n"
     ]
    }
   ],
   "source": [
    "lead.info()"
   ]
  },
  {
   "cell_type": "code",
   "execution_count": 42,
   "metadata": {},
   "outputs": [],
   "source": [
    "def stringtobin(col):\n",
    "    return col.map({'Yes':1,'No':0})"
   ]
  },
  {
   "cell_type": "code",
   "execution_count": 43,
   "metadata": {},
   "outputs": [
    {
     "data": {
      "text/plain": [
       "Index(['Lead Origin', 'Lead Source', 'Do Not Email', 'Do Not Call',\n",
       "       'Converted', 'TotalVisits', 'Total Time Spent on Website',\n",
       "       'Page Views Per Visit', 'Specialization',\n",
       "       'What is your current occupation', 'Search', 'Newspaper Article',\n",
       "       'X Education Forums', 'Newspaper', 'Digital Advertisement',\n",
       "       'Through Recommendations', 'Lead Profile', 'City',\n",
       "       'A free copy of Mastering The Interview', 'Last Notable Activity'],\n",
       "      dtype='object')"
      ]
     },
     "execution_count": 43,
     "metadata": {},
     "output_type": "execute_result"
    }
   ],
   "source": [
    "lead.columns"
   ]
  },
  {
   "cell_type": "code",
   "execution_count": 44,
   "metadata": {},
   "outputs": [],
   "source": [
    "lead[['Do Not Email', 'Do Not Call','Search', 'Newspaper Article','X Education Forums', 'Newspaper', 'Digital Advertisement','Through Recommendations','A free copy of Mastering The Interview']]=lead[['Do Not Email', 'Do Not Call','Search', 'Newspaper Article','X Education Forums', 'Newspaper', 'Digital Advertisement','Through Recommendations','A free copy of Mastering The Interview']].apply(stringtobin)"
   ]
  },
  {
   "cell_type": "markdown",
   "metadata": {},
   "source": [
    "- Converting columns with values as yes or no to 1 or 0."
   ]
  },
  {
   "cell_type": "code",
   "execution_count": 45,
   "metadata": {},
   "outputs": [
    {
     "name": "stdout",
     "output_type": "stream",
     "text": [
      "<class 'pandas.core.frame.DataFrame'>\n",
      "Int64Index: 9240 entries, 0 to 9239\n",
      "Data columns (total 20 columns):\n",
      "Lead Origin                               9240 non-null object\n",
      "Lead Source                               9240 non-null object\n",
      "Do Not Email                              9240 non-null int64\n",
      "Do Not Call                               9240 non-null int64\n",
      "Converted                                 9240 non-null int64\n",
      "TotalVisits                               9240 non-null float64\n",
      "Total Time Spent on Website               9240 non-null int64\n",
      "Page Views Per Visit                      9240 non-null float64\n",
      "Specialization                            9240 non-null object\n",
      "What is your current occupation           9240 non-null object\n",
      "Search                                    9240 non-null int64\n",
      "Newspaper Article                         9240 non-null int64\n",
      "X Education Forums                        9240 non-null int64\n",
      "Newspaper                                 9240 non-null int64\n",
      "Digital Advertisement                     9240 non-null int64\n",
      "Through Recommendations                   9240 non-null int64\n",
      "Lead Profile                              9240 non-null object\n",
      "City                                      9240 non-null object\n",
      "A free copy of Mastering The Interview    9240 non-null int64\n",
      "Last Notable Activity                     9240 non-null object\n",
      "dtypes: float64(2), int64(11), object(7)\n",
      "memory usage: 1.5+ MB\n"
     ]
    }
   ],
   "source": [
    "lead.info()"
   ]
  },
  {
   "cell_type": "code",
   "execution_count": 46,
   "metadata": {},
   "outputs": [],
   "source": [
    "lead.loc[lead['Lead Source']=='google','Lead Source']='Google'"
   ]
  },
  {
   "cell_type": "code",
   "execution_count": 47,
   "metadata": {},
   "outputs": [
    {
     "data": {
      "text/plain": [
       "<matplotlib.axes._subplots.AxesSubplot at 0x1df7b7347f0>"
      ]
     },
     "execution_count": 47,
     "metadata": {},
     "output_type": "execute_result"
    },
    {
     "data": {
      "image/png": "[encoded data removed]",
      "text/plain": [
       "<Figure size 1080x576 with 2 Axes>"
      ]
     },
     "metadata": {},
     "output_type": "display_data"
    }
   ],
   "source": [
    "plt.figure(figsize=(15,8))\n",
    "sns.heatmap(data=lead.corr(),annot=True,cmap='YlGnBu')"
   ]
  },
  {
   "cell_type": "code",
   "execution_count": 48,
   "metadata": {},
   "outputs": [],
   "source": [
    "lead_dummy=pd.get_dummies(lead)"
   ]
  },
  {
   "cell_type": "code",
   "execution_count": 49,
   "metadata": {},
   "outputs": [
    {
     "name": "stdout",
     "output_type": "stream",
     "text": [
      "<class 'pandas.core.frame.DataFrame'>\n",
      "Int64Index: 9240 entries, 0 to 9239\n",
      "Data columns (total 90 columns):\n",
      "Do Not Email                                            9240 non-null int64\n",
      "Do Not Call                                             9240 non-null int64\n",
      "Converted                                               9240 non-null int64\n",
      "TotalVisits                                             9240 non-null float64\n",
      "Total Time Spent on Website                             9240 non-null int64\n",
      "Page Views Per Visit                                    9240 non-null float64\n",
      "Search                                                  9240 non-null int64\n",
      "Newspaper Article                                       9240 non-null int64\n",
      "X Education Forums                                      9240 non-null int64\n",
      "Newspaper                                               9240 non-null int64\n",
      "Digital Advertisement                                   9240 non-null int64\n",
      "Through Recommendations                                 9240 non-null int64\n",
      "A free copy of Mastering The Interview                  9240 non-null int64\n",
      "Lead Origin_API                                         9240 non-null uint8\n",
      "Lead Origin_Landing Page Submission                     9240 non-null uint8\n",
      "Lead Origin_Lead Add Form                               9240 non-null uint8\n",
      "Lead Origin_Lead Import                                 9240 non-null uint8\n",
      "Lead Origin_Quick Add Form                              9240 non-null uint8\n",
      "Lead Source_Click2call                                  9240 non-null uint8\n",
      "Lead Source_Direct Traffic                              9240 non-null uint8\n",
      "Lead Source_Facebook                                    9240 non-null uint8\n",
      "Lead Source_Google                                      9240 non-null uint8\n",
      "Lead Source_Live Chat                                   9240 non-null uint8\n",
      "Lead Source_NC_EDM                                      9240 non-null uint8\n",
      "Lead Source_Olark Chat                                  9240 non-null uint8\n",
      "Lead Source_Organic Search                              9240 non-null uint8\n",
      "Lead Source_Pay per Click Ads                           9240 non-null uint8\n",
      "Lead Source_Press_Release                               9240 non-null uint8\n",
      "Lead Source_Reference                                   9240 non-null uint8\n",
      "Lead Source_Referral Sites                              9240 non-null uint8\n",
      "Lead Source_Social Media                                9240 non-null uint8\n",
      "Lead Source_WeLearn                                     9240 non-null uint8\n",
      "Lead Source_Welingak Website                            9240 non-null uint8\n",
      "Lead Source_bing                                        9240 non-null uint8\n",
      "Lead Source_blog                                        9240 non-null uint8\n",
      "Lead Source_testone                                     9240 non-null uint8\n",
      "Lead Source_welearnblog_Home                            9240 non-null uint8\n",
      "Lead Source_youtubechannel                              9240 non-null uint8\n",
      "Specialization_Banking, Investment And Insurance        9240 non-null uint8\n",
      "Specialization_Business Administration                  9240 non-null uint8\n",
      "Specialization_E-Business                               9240 non-null uint8\n",
      "Specialization_E-COMMERCE                               9240 non-null uint8\n",
      "Specialization_Finance Management                       9240 non-null uint8\n",
      "Specialization_Healthcare Management                    9240 non-null uint8\n",
      "Specialization_Hospitality Management                   9240 non-null uint8\n",
      "Specialization_Human Resource Management                9240 non-null uint8\n",
      "Specialization_IT Projects Management                   9240 non-null uint8\n",
      "Specialization_International Business                   9240 non-null uint8\n",
      "Specialization_Marketing Management                     9240 non-null uint8\n",
      "Specialization_Media and Advertising                    9240 non-null uint8\n",
      "Specialization_Operations Management                    9240 non-null uint8\n",
      "Specialization_Other                                    9240 non-null uint8\n",
      "Specialization_Retail Management                        9240 non-null uint8\n",
      "Specialization_Rural and Agribusiness                   9240 non-null uint8\n",
      "Specialization_Services Excellence                      9240 non-null uint8\n",
      "Specialization_Supply Chain Management                  9240 non-null uint8\n",
      "Specialization_Travel and Tourism                       9240 non-null uint8\n",
      "What is your current occupation_Businessman             9240 non-null uint8\n",
      "What is your current occupation_Housewife               9240 non-null uint8\n",
      "What is your current occupation_Other                   9240 non-null uint8\n",
      "What is your current occupation_Student                 9240 non-null uint8\n",
      "What is your current occupation_Unemployed              9240 non-null uint8\n",
      "What is your current occupation_Working Professional    9240 non-null uint8\n",
      "Lead Profile_Dual Specialization Student                9240 non-null uint8\n",
      "Lead Profile_Lateral Student                            9240 non-null uint8\n",
      "Lead Profile_Other Leads                                9240 non-null uint8\n",
      "Lead Profile_Potential Lead                             9240 non-null uint8\n",
      "Lead Profile_Student of SomeSchool                      9240 non-null uint8\n",
      "City_Mumbai                                             9240 non-null uint8\n",
      "City_Other Cities                                       9240 non-null uint8\n",
      "City_Other Cities of Maharashtra                        9240 non-null uint8\n",
      "City_Other Metro Cities                                 9240 non-null uint8\n",
      "City_Thane & Outskirts                                  9240 non-null uint8\n",
      "City_Tier II Cities                                     9240 non-null uint8\n",
      "Last Notable Activity_Approached upfront                9240 non-null uint8\n",
      "Last Notable Activity_Email Bounced                     9240 non-null uint8\n",
      "Last Notable Activity_Email Link Clicked                9240 non-null uint8\n",
      "Last Notable Activity_Email Marked Spam                 9240 non-null uint8\n",
      "Last Notable Activity_Email Opened                      9240 non-null uint8\n",
      "Last Notable Activity_Email Received                    9240 non-null uint8\n",
      "Last Notable Activity_Form Submitted on Website         9240 non-null uint8\n",
      "Last Notable Activity_Had a Phone Conversation          9240 non-null uint8\n",
      "Last Notable Activity_Modified                          9240 non-null uint8\n",
      "Last Notable Activity_Olark Chat Conversation           9240 non-null uint8\n",
      "Last Notable Activity_Page Visited on Website           9240 non-null uint8\n",
      "Last Notable Activity_Resubscribed to emails            9240 non-null uint8\n",
      "Last Notable Activity_SMS Sent                          9240 non-null uint8\n",
      "Last Notable Activity_Unreachable                       9240 non-null uint8\n",
      "Last Notable Activity_Unsubscribed                      9240 non-null uint8\n",
      "Last Notable Activity_View in browser link Clicked      9240 non-null uint8\n",
      "dtypes: float64(2), int64(11), uint8(77)\n",
      "memory usage: 1.7 MB\n"
     ]
    }
   ],
   "source": [
    "lead_dummy.info()"
   ]
  },
  {
   "cell_type": "code",
   "execution_count": 50,
   "metadata": {},
   "outputs": [],
   "source": [
    "lead_dummy.drop(['Last Notable Activity_Approached upfront','City_Other Cities','Lead Profile_Other Leads','What is your current occupation_Other','Specialization_Other','Lead Source_Click2call','Lead Origin_API'],axis=1,inplace=True)"
   ]
  },
  {
   "cell_type": "markdown",
   "metadata": {},
   "source": [
    "- Instead of using dropfirst from getdummies we manually drop these columns since we have considered select as these option which might cause the biased dataset.\n",
    "- Now the others and if no option is 1 in the dummies we can easily know that this is the option."
   ]
  },
  {
   "cell_type": "code",
   "execution_count": 51,
   "metadata": {},
   "outputs": [],
   "source": [
    "from sklearn.preprocessing import StandardScaler\n",
    "from sklearn.model_selection import train_test_split"
   ]
  },
  {
   "cell_type": "markdown",
   "metadata": {},
   "source": [
    "- Splitting the data and standardizing it.\n",
    "- After this we apply RFE to eliminate the unwanted features.\n",
    "- then we see vif and drop the columns with high vif i,e vif>5"
   ]
  },
  {
   "cell_type": "code",
   "execution_count": 52,
   "metadata": {},
   "outputs": [],
   "source": [
    "X_train,X_test,y_train,y_test=train_test_split(lead_dummy.drop('Converted',axis=1),lead_dummy['Converted'],random_state=100,test_size=0.3,train_size=0.7)"
   ]
  },
  {
   "cell_type": "code",
   "execution_count": 53,
   "metadata": {},
   "outputs": [],
   "source": [
    "scalar=StandardScaler()"
   ]
  },
  {
   "cell_type": "code",
   "execution_count": 54,
   "metadata": {},
   "outputs": [],
   "source": [
    "X_train[['TotalVisits','Total Time Spent on Website', 'Page Views Per Visit']]=scalar.fit_transform(X_train[['TotalVisits','Total Time Spent on Website', 'Page Views Per Visit']])"
   ]
  },
  {
   "cell_type": "code",
   "execution_count": 55,
   "metadata": {},
   "outputs": [
    {
     "data": {
      "text/html": [
       "<div>\n",
       "<style scoped>\n",
       "    .dataframe tbody tr th:only-of-type {\n",
       "        vertical-align: middle;\n",
       "    }\n",
       "\n",
       "    .dataframe tbody tr th {\n",
       "        vertical-align: top;\n",
       "    }\n",
       "\n",
       "    .dataframe thead th {\n",
       "        text-align: right;\n",
       "    }\n",
       "</style>\n",
       "<table border=\"1\" class=\"dataframe\">\n",
       "  <thead>\n",
       "    <tr style=\"text-align: right;\">\n",
       "      <th></th>\n",
       "      <th>Do Not Email</th>\n",
       "      <th>Do Not Call</th>\n",
       "      <th>TotalVisits</th>\n",
       "      <th>Total Time Spent on Website</th>\n",
       "      <th>Page Views Per Visit</th>\n",
       "      <th>Search</th>\n",
       "      <th>Newspaper Article</th>\n",
       "      <th>X Education Forums</th>\n",
       "      <th>Newspaper</th>\n",
       "      <th>Digital Advertisement</th>\n",
       "      <th>...</th>\n",
       "      <th>Last Notable Activity_Form Submitted on Website</th>\n",
       "      <th>Last Notable Activity_Had a Phone Conversation</th>\n",
       "      <th>Last Notable Activity_Modified</th>\n",
       "      <th>Last Notable Activity_Olark Chat Conversation</th>\n",
       "      <th>Last Notable Activity_Page Visited on Website</th>\n",
       "      <th>Last Notable Activity_Resubscribed to emails</th>\n",
       "      <th>Last Notable Activity_SMS Sent</th>\n",
       "      <th>Last Notable Activity_Unreachable</th>\n",
       "      <th>Last Notable Activity_Unsubscribed</th>\n",
       "      <th>Last Notable Activity_View in browser link Clicked</th>\n",
       "    </tr>\n",
       "  </thead>\n",
       "  <tbody>\n",
       "    <tr>\n",
       "      <th>count</th>\n",
       "      <td>6468.000000</td>\n",
       "      <td>6468.000000</td>\n",
       "      <td>6.468000e+03</td>\n",
       "      <td>6.468000e+03</td>\n",
       "      <td>6.468000e+03</td>\n",
       "      <td>6468.000000</td>\n",
       "      <td>6468.000000</td>\n",
       "      <td>6468.000000</td>\n",
       "      <td>6468.000000</td>\n",
       "      <td>6468.000000</td>\n",
       "      <td>...</td>\n",
       "      <td>6468.000000</td>\n",
       "      <td>6468.000000</td>\n",
       "      <td>6468.000000</td>\n",
       "      <td>6468.000000</td>\n",
       "      <td>6468.000000</td>\n",
       "      <td>6468.000000</td>\n",
       "      <td>6468.000000</td>\n",
       "      <td>6468.000000</td>\n",
       "      <td>6468.000000</td>\n",
       "      <td>6468.0</td>\n",
       "    </tr>\n",
       "    <tr>\n",
       "      <th>mean</th>\n",
       "      <td>0.078386</td>\n",
       "      <td>0.000309</td>\n",
       "      <td>-1.129448e-17</td>\n",
       "      <td>-1.609377e-16</td>\n",
       "      <td>-2.013438e-16</td>\n",
       "      <td>0.001701</td>\n",
       "      <td>0.000309</td>\n",
       "      <td>0.000155</td>\n",
       "      <td>0.000155</td>\n",
       "      <td>0.000464</td>\n",
       "      <td>...</td>\n",
       "      <td>0.000155</td>\n",
       "      <td>0.001701</td>\n",
       "      <td>0.367811</td>\n",
       "      <td>0.018553</td>\n",
       "      <td>0.035869</td>\n",
       "      <td>0.000155</td>\n",
       "      <td>0.237477</td>\n",
       "      <td>0.003247</td>\n",
       "      <td>0.004793</td>\n",
       "      <td>0.0</td>\n",
       "    </tr>\n",
       "    <tr>\n",
       "      <th>std</th>\n",
       "      <td>0.268799</td>\n",
       "      <td>0.017583</td>\n",
       "      <td>1.000077e+00</td>\n",
       "      <td>1.000077e+00</td>\n",
       "      <td>1.000077e+00</td>\n",
       "      <td>0.041207</td>\n",
       "      <td>0.017583</td>\n",
       "      <td>0.012434</td>\n",
       "      <td>0.012434</td>\n",
       "      <td>0.021533</td>\n",
       "      <td>...</td>\n",
       "      <td>0.012434</td>\n",
       "      <td>0.041207</td>\n",
       "      <td>0.482247</td>\n",
       "      <td>0.134950</td>\n",
       "      <td>0.185978</td>\n",
       "      <td>0.012434</td>\n",
       "      <td>0.425570</td>\n",
       "      <td>0.056892</td>\n",
       "      <td>0.069069</td>\n",
       "      <td>0.0</td>\n",
       "    </tr>\n",
       "    <tr>\n",
       "      <th>min</th>\n",
       "      <td>0.000000</td>\n",
       "      <td>0.000000</td>\n",
       "      <td>-6.564336e-01</td>\n",
       "      <td>-8.853708e-01</td>\n",
       "      <td>-1.085519e+00</td>\n",
       "      <td>0.000000</td>\n",
       "      <td>0.000000</td>\n",
       "      <td>0.000000</td>\n",
       "      <td>0.000000</td>\n",
       "      <td>0.000000</td>\n",
       "      <td>...</td>\n",
       "      <td>0.000000</td>\n",
       "      <td>0.000000</td>\n",
       "      <td>0.000000</td>\n",
       "      <td>0.000000</td>\n",
       "      <td>0.000000</td>\n",
       "      <td>0.000000</td>\n",
       "      <td>0.000000</td>\n",
       "      <td>0.000000</td>\n",
       "      <td>0.000000</td>\n",
       "      <td>0.0</td>\n",
       "    </tr>\n",
       "    <tr>\n",
       "      <th>25%</th>\n",
       "      <td>0.000000</td>\n",
       "      <td>0.000000</td>\n",
       "      <td>-4.671335e-01</td>\n",
       "      <td>-8.634138e-01</td>\n",
       "      <td>-6.231508e-01</td>\n",
       "      <td>0.000000</td>\n",
       "      <td>0.000000</td>\n",
       "      <td>0.000000</td>\n",
       "      <td>0.000000</td>\n",
       "      <td>0.000000</td>\n",
       "      <td>...</td>\n",
       "      <td>0.000000</td>\n",
       "      <td>0.000000</td>\n",
       "      <td>0.000000</td>\n",
       "      <td>0.000000</td>\n",
       "      <td>0.000000</td>\n",
       "      <td>0.000000</td>\n",
       "      <td>0.000000</td>\n",
       "      <td>0.000000</td>\n",
       "      <td>0.000000</td>\n",
       "      <td>0.0</td>\n",
       "    </tr>\n",
       "    <tr>\n",
       "      <th>50%</th>\n",
       "      <td>0.000000</td>\n",
       "      <td>0.000000</td>\n",
       "      <td>-8.853323e-02</td>\n",
       "      <td>-4.352528e-01</td>\n",
       "      <td>-1.607829e-01</td>\n",
       "      <td>0.000000</td>\n",
       "      <td>0.000000</td>\n",
       "      <td>0.000000</td>\n",
       "      <td>0.000000</td>\n",
       "      <td>0.000000</td>\n",
       "      <td>...</td>\n",
       "      <td>0.000000</td>\n",
       "      <td>0.000000</td>\n",
       "      <td>0.000000</td>\n",
       "      <td>0.000000</td>\n",
       "      <td>0.000000</td>\n",
       "      <td>0.000000</td>\n",
       "      <td>0.000000</td>\n",
       "      <td>0.000000</td>\n",
       "      <td>0.000000</td>\n",
       "      <td>0.0</td>\n",
       "    </tr>\n",
       "    <tr>\n",
       "      <th>75%</th>\n",
       "      <td>0.000000</td>\n",
       "      <td>0.000000</td>\n",
       "      <td>2.900670e-01</td>\n",
       "      <td>8.098906e-01</td>\n",
       "      <td>3.015850e-01</td>\n",
       "      <td>0.000000</td>\n",
       "      <td>0.000000</td>\n",
       "      <td>0.000000</td>\n",
       "      <td>0.000000</td>\n",
       "      <td>0.000000</td>\n",
       "      <td>...</td>\n",
       "      <td>0.000000</td>\n",
       "      <td>0.000000</td>\n",
       "      <td>1.000000</td>\n",
       "      <td>0.000000</td>\n",
       "      <td>0.000000</td>\n",
       "      <td>0.000000</td>\n",
       "      <td>0.000000</td>\n",
       "      <td>0.000000</td>\n",
       "      <td>0.000000</td>\n",
       "      <td>0.0</td>\n",
       "    </tr>\n",
       "    <tr>\n",
       "      <th>max</th>\n",
       "      <td>1.000000</td>\n",
       "      <td>1.000000</td>\n",
       "      <td>4.685790e+01</td>\n",
       "      <td>3.271816e+00</td>\n",
       "      <td>2.434472e+01</td>\n",
       "      <td>1.000000</td>\n",
       "      <td>1.000000</td>\n",
       "      <td>1.000000</td>\n",
       "      <td>1.000000</td>\n",
       "      <td>1.000000</td>\n",
       "      <td>...</td>\n",
       "      <td>1.000000</td>\n",
       "      <td>1.000000</td>\n",
       "      <td>1.000000</td>\n",
       "      <td>1.000000</td>\n",
       "      <td>1.000000</td>\n",
       "      <td>1.000000</td>\n",
       "      <td>1.000000</td>\n",
       "      <td>1.000000</td>\n",
       "      <td>1.000000</td>\n",
       "      <td>0.0</td>\n",
       "    </tr>\n",
       "  </tbody>\n",
       "</table>\n",
       "<p>8 rows × 82 columns</p>\n",
       "</div>"
      ],
      "text/plain": [
       "       Do Not Email  Do Not Call   TotalVisits  Total Time Spent on Website  \\\n",
       "count   6468.000000  6468.000000  6.468000e+03                 6.468000e+03   \n",
       "mean       0.078386     0.000309 -1.129448e-17                -1.609377e-16   \n",
       "std        0.268799     0.017583  1.000077e+00                 1.000077e+00   \n",
       "min        0.000000     0.000000 -6.564336e-01                -8.853708e-01   \n",
       "25%        0.000000     0.000000 -4.671335e-01                -8.634138e-01   \n",
       "50%        0.000000     0.000000 -8.853323e-02                -4.352528e-01   \n",
       "75%        0.000000     0.000000  2.900670e-01                 8.098906e-01   \n",
       "max        1.000000     1.000000  4.685790e+01                 3.271816e+00   \n",
       "\n",
       "       Page Views Per Visit       Search  Newspaper Article  \\\n",
       "count          6.468000e+03  6468.000000        6468.000000   \n",
       "mean          -2.013438e-16     0.001701           0.000309   \n",
       "std            1.000077e+00     0.041207           0.017583   \n",
       "min           -1.085519e+00     0.000000           0.000000   \n",
       "25%           -6.231508e-01     0.000000           0.000000   \n",
       "50%           -1.607829e-01     0.000000           0.000000   \n",
       "75%            3.015850e-01     0.000000           0.000000   \n",
       "max            2.434472e+01     1.000000           1.000000   \n",
       "\n",
       "       X Education Forums    Newspaper  Digital Advertisement  \\\n",
       "count         6468.000000  6468.000000            6468.000000   \n",
       "mean             0.000155     0.000155               0.000464   \n",
       "std              0.012434     0.012434               0.021533   \n",
       "min              0.000000     0.000000               0.000000   \n",
       "25%              0.000000     0.000000               0.000000   \n",
       "50%              0.000000     0.000000               0.000000   \n",
       "75%              0.000000     0.000000               0.000000   \n",
       "max              1.000000     1.000000               1.000000   \n",
       "\n",
       "                              ...                          \\\n",
       "count                         ...                           \n",
       "mean                          ...                           \n",
       "std                           ...                           \n",
       "min                           ...                           \n",
       "25%                           ...                           \n",
       "50%                           ...                           \n",
       "75%                           ...                           \n",
       "max                           ...                           \n",
       "\n",
       "       Last Notable Activity_Form Submitted on Website  \\\n",
       "count                                      6468.000000   \n",
       "mean                                          0.000155   \n",
       "std                                           0.012434   \n",
       "min                                           0.000000   \n",
       "25%                                           0.000000   \n",
       "50%                                           0.000000   \n",
       "75%                                           0.000000   \n",
       "max                                           1.000000   \n",
       "\n",
       "       Last Notable Activity_Had a Phone Conversation  \\\n",
       "count                                     6468.000000   \n",
       "mean                                         0.001701   \n",
       "std                                          0.041207   \n",
       "min                                          0.000000   \n",
       "25%                                          0.000000   \n",
       "50%                                          0.000000   \n",
       "75%                                          0.000000   \n",
       "max                                          1.000000   \n",
       "\n",
       "       Last Notable Activity_Modified  \\\n",
       "count                     6468.000000   \n",
       "mean                         0.367811   \n",
       "std                          0.482247   \n",
       "min                          0.000000   \n",
       "25%                          0.000000   \n",
       "50%                          0.000000   \n",
       "75%                          1.000000   \n",
       "max                          1.000000   \n",
       "\n",
       "       Last Notable Activity_Olark Chat Conversation  \\\n",
       "count                                    6468.000000   \n",
       "mean                                        0.018553   \n",
       "std                                         0.134950   \n",
       "min                                         0.000000   \n",
       "25%                                         0.000000   \n",
       "50%                                         0.000000   \n",
       "75%                                         0.000000   \n",
       "max                                         1.000000   \n",
       "\n",
       "       Last Notable Activity_Page Visited on Website  \\\n",
       "count                                    6468.000000   \n",
       "mean                                        0.035869   \n",
       "std                                         0.185978   \n",
       "min                                         0.000000   \n",
       "25%                                         0.000000   \n",
       "50%                                         0.000000   \n",
       "75%                                         0.000000   \n",
       "max                                         1.000000   \n",
       "\n",
       "       Last Notable Activity_Resubscribed to emails  \\\n",
       "count                                   6468.000000   \n",
       "mean                                       0.000155   \n",
       "std                                        0.012434   \n",
       "min                                        0.000000   \n",
       "25%                                        0.000000   \n",
       "50%                                        0.000000   \n",
       "75%                                        0.000000   \n",
       "max                                        1.000000   \n",
       "\n",
       "       Last Notable Activity_SMS Sent  Last Notable Activity_Unreachable  \\\n",
       "count                     6468.000000                        6468.000000   \n",
       "mean                         0.237477                           0.003247   \n",
       "std                          0.425570                           0.056892   \n",
       "min                          0.000000                           0.000000   \n",
       "25%                          0.000000                           0.000000   \n",
       "50%                          0.000000                           0.000000   \n",
       "75%                          0.000000                           0.000000   \n",
       "max                          1.000000                           1.000000   \n",
       "\n",
       "       Last Notable Activity_Unsubscribed  \\\n",
       "count                         6468.000000   \n",
       "mean                             0.004793   \n",
       "std                              0.069069   \n",
       "min                              0.000000   \n",
       "25%                              0.000000   \n",
       "50%                              0.000000   \n",
       "75%                              0.000000   \n",
       "max                              1.000000   \n",
       "\n",
       "       Last Notable Activity_View in browser link Clicked  \n",
       "count                                             6468.0   \n",
       "mean                                                 0.0   \n",
       "std                                                  0.0   \n",
       "min                                                  0.0   \n",
       "25%                                                  0.0   \n",
       "50%                                                  0.0   \n",
       "75%                                                  0.0   \n",
       "max                                                  0.0   \n",
       "\n",
       "[8 rows x 82 columns]"
      ]
     },
     "execution_count": 55,
     "metadata": {},
     "output_type": "execute_result"
    }
   ],
   "source": [
    "X_train.describe()"
   ]
  },
  {
   "cell_type": "code",
   "execution_count": 56,
   "metadata": {},
   "outputs": [],
   "source": [
    "from sklearn.feature_selection import RFE"
   ]
  },
  {
   "cell_type": "code",
   "execution_count": 57,
   "metadata": {},
   "outputs": [],
   "source": [
    "from sklearn.linear_model import LogisticRegression"
   ]
  },
  {
   "cell_type": "code",
   "execution_count": 58,
   "metadata": {},
   "outputs": [],
   "source": [
    "lreg=LogisticRegression()"
   ]
  },
  {
   "cell_type": "code",
   "execution_count": 59,
   "metadata": {},
   "outputs": [],
   "source": [
    "rfe=RFE(lreg,15)"
   ]
  },
  {
   "cell_type": "code",
   "execution_count": 60,
   "metadata": {},
   "outputs": [],
   "source": [
    "rfe=rfe.fit(X_train,y_train)"
   ]
  },
  {
   "cell_type": "code",
   "execution_count": 111,
   "metadata": {},
   "outputs": [
    {
     "data": {
      "text/plain": [
       "[('Do Not Email', True, 1),\n",
       " ('Do Not Call', False, 15),\n",
       " ('TotalVisits', False, 47),\n",
       " ('Total Time Spent on Website', True, 1),\n",
       " ('Page Views Per Visit', False, 48),\n",
       " ('Search', False, 38),\n",
       " ('Newspaper Article', False, 14),\n",
       " ('X Education Forums', False, 43),\n",
       " ('Newspaper', False, 6),\n",
       " ('Digital Advertisement', False, 9),\n",
       " ('Through Recommendations', False, 16),\n",
       " ('A free copy of Mastering The Interview', False, 46),\n",
       " ('Lead Origin_Landing Page Submission', False, 24),\n",
       " ('Lead Origin_Lead Add Form', True, 1),\n",
       " ('Lead Origin_Lead Import', False, 50),\n",
       " ('Lead Origin_Quick Add Form', False, 39),\n",
       " ('Lead Source_Direct Traffic', False, 17),\n",
       " ('Lead Source_Facebook', False, 21),\n",
       " ('Lead Source_Google', False, 20),\n",
       " ('Lead Source_Live Chat', False, 41),\n",
       " ('Lead Source_NC_EDM', False, 8),\n",
       " ('Lead Source_Olark Chat', True, 1),\n",
       " ('Lead Source_Organic Search', False, 18),\n",
       " ('Lead Source_Pay per Click Ads', False, 42),\n",
       " ('Lead Source_Press_Release', False, 54),\n",
       " ('Lead Source_Reference', False, 64),\n",
       " ('Lead Source_Referral Sites', False, 19),\n",
       " ('Lead Source_Social Media', False, 56),\n",
       " ('Lead Source_WeLearn', False, 52),\n",
       " ('Lead Source_Welingak Website', True, 1),\n",
       " ('Lead Source_bing', False, 53),\n",
       " ('Lead Source_blog', False, 40),\n",
       " ('Lead Source_testone', False, 67),\n",
       " ('Lead Source_welearnblog_Home', False, 45),\n",
       " ('Lead Source_youtubechannel', False, 49),\n",
       " ('Specialization_Banking, Investment And Insurance', False, 29),\n",
       " ('Specialization_Business Administration', False, 36),\n",
       " ('Specialization_E-Business', False, 35),\n",
       " ('Specialization_E-COMMERCE', False, 22),\n",
       " ('Specialization_Finance Management', False, 25),\n",
       " ('Specialization_Healthcare Management', False, 28),\n",
       " ('Specialization_Hospitality Management', True, 1),\n",
       " ('Specialization_Human Resource Management', False, 34),\n",
       " ('Specialization_IT Projects Management', False, 23),\n",
       " ('Specialization_International Business', False, 65),\n",
       " ('Specialization_Marketing Management', False, 31),\n",
       " ('Specialization_Media and Advertising', False, 27),\n",
       " ('Specialization_Operations Management', False, 30),\n",
       " ('Specialization_Retail Management', False, 59),\n",
       " ('Specialization_Rural and Agribusiness', False, 13),\n",
       " ('Specialization_Services Excellence', False, 26),\n",
       " ('Specialization_Supply Chain Management', False, 32),\n",
       " ('Specialization_Travel and Tourism', False, 33),\n",
       " ('What is your current occupation_Businessman', False, 57),\n",
       " ('What is your current occupation_Housewife', True, 1),\n",
       " ('What is your current occupation_Student', False, 3),\n",
       " ('What is your current occupation_Unemployed', False, 4),\n",
       " ('What is your current occupation_Working Professional', True, 1),\n",
       " ('Lead Profile_Dual Specialization Student', True, 1),\n",
       " ('Lead Profile_Lateral Student', True, 1),\n",
       " ('Lead Profile_Potential Lead', True, 1),\n",
       " ('Lead Profile_Student of SomeSchool', True, 1),\n",
       " ('City_Mumbai', False, 60),\n",
       " ('City_Other Cities of Maharashtra', False, 61),\n",
       " ('City_Other Metro Cities', False, 44),\n",
       " ('City_Thane & Outskirts', False, 62),\n",
       " ('City_Tier II Cities', False, 63),\n",
       " ('Last Notable Activity_Email Bounced', False, 66),\n",
       " ('Last Notable Activity_Email Link Clicked', False, 10),\n",
       " ('Last Notable Activity_Email Marked Spam', False, 58),\n",
       " ('Last Notable Activity_Email Opened', False, 12),\n",
       " ('Last Notable Activity_Email Received', False, 51),\n",
       " ('Last Notable Activity_Form Submitted on Website', False, 55),\n",
       " ('Last Notable Activity_Had a Phone Conversation', True, 1),\n",
       " ('Last Notable Activity_Modified', False, 7),\n",
       " ('Last Notable Activity_Olark Chat Conversation', False, 5),\n",
       " ('Last Notable Activity_Page Visited on Website', False, 11),\n",
       " ('Last Notable Activity_Resubscribed to emails', False, 2),\n",
       " ('Last Notable Activity_SMS Sent', True, 1),\n",
       " ('Last Notable Activity_Unreachable', True, 1),\n",
       " ('Last Notable Activity_Unsubscribed', False, 37),\n",
       " ('Last Notable Activity_View in browser link Clicked', False, 68)]"
      ]
     },
     "execution_count": 111,
     "metadata": {},
     "output_type": "execute_result"
    }
   ],
   "source": [
    "list(zip(X_train.columns, rfe.support_, rfe.ranking_))"
   ]
  },
  {
   "cell_type": "markdown",
   "metadata": {},
   "source": [
    "- RFE rank indicates the feature ranks which are the top feature."
   ]
  },
  {
   "cell_type": "code",
   "execution_count": 62,
   "metadata": {},
   "outputs": [],
   "source": [
    "from statsmodels.stats.outliers_influence import variance_inflation_factor"
   ]
  },
  {
   "cell_type": "code",
   "execution_count": 63,
   "metadata": {},
   "outputs": [],
   "source": [
    "import statsmodels.api as sm"
   ]
  },
  {
   "cell_type": "code",
   "execution_count": 64,
   "metadata": {},
   "outputs": [],
   "source": [
    "import warnings as warning "
   ]
  },
  {
   "cell_type": "code",
   "execution_count": 65,
   "metadata": {},
   "outputs": [],
   "source": [
    "warning.filterwarnings('ignore')"
   ]
  },
  {
   "cell_type": "code",
   "execution_count": 66,
   "metadata": {},
   "outputs": [],
   "source": [
    "X_trn=X_train[X_train.columns[rfe.support_]]"
   ]
  },
  {
   "cell_type": "code",
   "execution_count": 67,
   "metadata": {},
   "outputs": [
    {
     "data": {
      "text/html": [
       "<table class=\"simpletable\">\n",
       "<caption>Generalized Linear Model Regression Results</caption>\n",
       "<tr>\n",
       "  <th>Dep. Variable:</th>      <td>Converted</td>    <th>  No. Observations:  </th>  <td>  6468</td>  \n",
       "</tr>\n",
       "<tr>\n",
       "  <th>Model:</th>                 <td>GLM</td>       <th>  Df Residuals:      </th>  <td>  6452</td>  \n",
       "</tr>\n",
       "<tr>\n",
       "  <th>Model Family:</th>       <td>Binomial</td>     <th>  Df Model:          </th>  <td>    15</td>  \n",
       "</tr>\n",
       "<tr>\n",
       "  <th>Link Function:</th>        <td>logit</td>      <th>  Scale:             </th> <td>  1.0000</td> \n",
       "</tr>\n",
       "<tr>\n",
       "  <th>Method:</th>               <td>IRLS</td>       <th>  Log-Likelihood:    </th> <td> -2550.3</td> \n",
       "</tr>\n",
       "<tr>\n",
       "  <th>Date:</th>           <td>Mon, 10 Jun 2019</td> <th>  Deviance:          </th> <td>  5100.6</td> \n",
       "</tr>\n",
       "<tr>\n",
       "  <th>Time:</th>               <td>00:03:12</td>     <th>  Pearson chi2:      </th> <td>7.98e+03</td> \n",
       "</tr>\n",
       "<tr>\n",
       "  <th>No. Iterations:</th>        <td>22</td>        <th>  Covariance Type:   </th> <td>nonrobust</td>\n",
       "</tr>\n",
       "</table>\n",
       "<table class=\"simpletable\">\n",
       "<tr>\n",
       "                            <td></td>                              <th>coef</th>     <th>std err</th>      <th>z</th>      <th>P>|z|</th>  <th>[0.025</th>    <th>0.975]</th>  \n",
       "</tr>\n",
       "<tr>\n",
       "  <th>const</th>                                                <td>   -1.8464</td> <td>    0.057</td> <td>  -32.335</td> <td> 0.000</td> <td>   -1.958</td> <td>   -1.734</td>\n",
       "</tr>\n",
       "<tr>\n",
       "  <th>Do Not Email</th>                                         <td>   -1.2361</td> <td>    0.169</td> <td>   -7.328</td> <td> 0.000</td> <td>   -1.567</td> <td>   -0.905</td>\n",
       "</tr>\n",
       "<tr>\n",
       "  <th>Total Time Spent on Website</th>                          <td>    1.0946</td> <td>    0.041</td> <td>   26.924</td> <td> 0.000</td> <td>    1.015</td> <td>    1.174</td>\n",
       "</tr>\n",
       "<tr>\n",
       "  <th>Lead Origin_Lead Add Form</th>                            <td>    3.2739</td> <td>    0.197</td> <td>   16.647</td> <td> 0.000</td> <td>    2.888</td> <td>    3.659</td>\n",
       "</tr>\n",
       "<tr>\n",
       "  <th>Lead Source_Olark Chat</th>                               <td>    1.0164</td> <td>    0.101</td> <td>   10.101</td> <td> 0.000</td> <td>    0.819</td> <td>    1.214</td>\n",
       "</tr>\n",
       "<tr>\n",
       "  <th>Lead Source_Welingak Website</th>                         <td>    2.6663</td> <td>    0.748</td> <td>    3.564</td> <td> 0.000</td> <td>    1.200</td> <td>    4.132</td>\n",
       "</tr>\n",
       "<tr>\n",
       "  <th>Specialization_Hospitality Management</th>                <td>   -0.9068</td> <td>    0.340</td> <td>   -2.666</td> <td> 0.008</td> <td>   -1.573</td> <td>   -0.240</td>\n",
       "</tr>\n",
       "<tr>\n",
       "  <th>What is your current occupation_Housewife</th>            <td>   24.2086</td> <td> 2.17e+04</td> <td>    0.001</td> <td> 0.999</td> <td>-4.25e+04</td> <td> 4.25e+04</td>\n",
       "</tr>\n",
       "<tr>\n",
       "  <th>What is your current occupation_Working Professional</th> <td>    2.5043</td> <td>    0.193</td> <td>   12.976</td> <td> 0.000</td> <td>    2.126</td> <td>    2.883</td>\n",
       "</tr>\n",
       "<tr>\n",
       "  <th>Lead Profile_Dual Specialization Student</th>             <td>   23.8105</td> <td> 1.69e+04</td> <td>    0.001</td> <td> 0.999</td> <td> -3.3e+04</td> <td> 3.31e+04</td>\n",
       "</tr>\n",
       "<tr>\n",
       "  <th>Lead Profile_Lateral Student</th>                         <td>    3.1504</td> <td>    1.099</td> <td>    2.866</td> <td> 0.004</td> <td>    0.996</td> <td>    5.305</td>\n",
       "</tr>\n",
       "<tr>\n",
       "  <th>Lead Profile_Potential Lead</th>                          <td>    1.7715</td> <td>    0.097</td> <td>   18.243</td> <td> 0.000</td> <td>    1.581</td> <td>    1.962</td>\n",
       "</tr>\n",
       "<tr>\n",
       "  <th>Lead Profile_Student of SomeSchool</th>                   <td>   -1.6663</td> <td>    0.429</td> <td>   -3.880</td> <td> 0.000</td> <td>   -2.508</td> <td>   -0.825</td>\n",
       "</tr>\n",
       "<tr>\n",
       "  <th>Last Notable Activity_Had a Phone Conversation</th>       <td>    3.1436</td> <td>    1.160</td> <td>    2.711</td> <td> 0.007</td> <td>    0.871</td> <td>    5.416</td>\n",
       "</tr>\n",
       "<tr>\n",
       "  <th>Last Notable Activity_SMS Sent</th>                       <td>    1.7303</td> <td>    0.080</td> <td>   21.519</td> <td> 0.000</td> <td>    1.573</td> <td>    1.888</td>\n",
       "</tr>\n",
       "<tr>\n",
       "  <th>Last Notable Activity_Unreachable</th>                    <td>    1.6765</td> <td>    0.556</td> <td>    3.016</td> <td> 0.003</td> <td>    0.587</td> <td>    2.766</td>\n",
       "</tr>\n",
       "</table>"
      ],
      "text/plain": [
       "<class 'statsmodels.iolib.summary.Summary'>\n",
       "\"\"\"\n",
       "                 Generalized Linear Model Regression Results                  \n",
       "==============================================================================\n",
       "Dep. Variable:              Converted   No. Observations:                 6468\n",
       "Model:                            GLM   Df Residuals:                     6452\n",
       "Model Family:                Binomial   Df Model:                           15\n",
       "Link Function:                  logit   Scale:                          1.0000\n",
       "Method:                          IRLS   Log-Likelihood:                -2550.3\n",
       "Date:                Mon, 10 Jun 2019   Deviance:                       5100.6\n",
       "Time:                        00:03:12   Pearson chi2:                 7.98e+03\n",
       "No. Iterations:                    22   Covariance Type:             nonrobust\n",
       "========================================================================================================================\n",
       "                                                           coef    std err          z      P>|z|      [0.025      0.975]\n",
       "------------------------------------------------------------------------------------------------------------------------\n",
       "const                                                   -1.8464      0.057    -32.335      0.000      -1.958      -1.734\n",
       "Do Not Email                                            -1.2361      0.169     -7.328      0.000      -1.567      -0.905\n",
       "Total Time Spent on Website                              1.0946      0.041     26.924      0.000       1.015       1.174\n",
       "Lead Origin_Lead Add Form                                3.2739      0.197     16.647      0.000       2.888       3.659\n",
       "Lead Source_Olark Chat                                   1.0164      0.101     10.101      0.000       0.819       1.214\n",
       "Lead Source_Welingak Website                             2.6663      0.748      3.564      0.000       1.200       4.132\n",
       "Specialization_Hospitality Management                   -0.9068      0.340     -2.666      0.008      -1.573      -0.240\n",
       "What is your current occupation_Housewife               24.2086   2.17e+04      0.001      0.999   -4.25e+04    4.25e+04\n",
       "What is your current occupation_Working Professional     2.5043      0.193     12.976      0.000       2.126       2.883\n",
       "Lead Profile_Dual Specialization Student                23.8105   1.69e+04      0.001      0.999    -3.3e+04    3.31e+04\n",
       "Lead Profile_Lateral Student                             3.1504      1.099      2.866      0.004       0.996       5.305\n",
       "Lead Profile_Potential Lead                              1.7715      0.097     18.243      0.000       1.581       1.962\n",
       "Lead Profile_Student of SomeSchool                      -1.6663      0.429     -3.880      0.000      -2.508      -0.825\n",
       "Last Notable Activity_Had a Phone Conversation           3.1436      1.160      2.711      0.007       0.871       5.416\n",
       "Last Notable Activity_SMS Sent                           1.7303      0.080     21.519      0.000       1.573       1.888\n",
       "Last Notable Activity_Unreachable                        1.6765      0.556      3.016      0.003       0.587       2.766\n",
       "========================================================================================================================\n",
       "\"\"\""
      ]
     },
     "execution_count": 67,
     "metadata": {},
     "output_type": "execute_result"
    }
   ],
   "source": [
    "mod1=sm.GLM(y_train,(sm.add_constant(X_trn)),family=sm.families.Binomial())\n",
    "mod1.fit().summary()"
   ]
  },
  {
   "cell_type": "code",
   "execution_count": 68,
   "metadata": {},
   "outputs": [],
   "source": [
    "X_trn.drop(['What is your current occupation_Housewife'],axis=1,inplace=True)"
   ]
  },
  {
   "cell_type": "code",
   "execution_count": 69,
   "metadata": {},
   "outputs": [
    {
     "data": {
      "text/html": [
       "<table class=\"simpletable\">\n",
       "<caption>Generalized Linear Model Regression Results</caption>\n",
       "<tr>\n",
       "  <th>Dep. Variable:</th>      <td>Converted</td>    <th>  No. Observations:  </th>  <td>  6468</td>  \n",
       "</tr>\n",
       "<tr>\n",
       "  <th>Model:</th>                 <td>GLM</td>       <th>  Df Residuals:      </th>  <td>  6453</td>  \n",
       "</tr>\n",
       "<tr>\n",
       "  <th>Model Family:</th>       <td>Binomial</td>     <th>  Df Model:          </th>  <td>    14</td>  \n",
       "</tr>\n",
       "<tr>\n",
       "  <th>Link Function:</th>        <td>logit</td>      <th>  Scale:             </th> <td>  1.0000</td> \n",
       "</tr>\n",
       "<tr>\n",
       "  <th>Method:</th>               <td>IRLS</td>       <th>  Log-Likelihood:    </th> <td> -2558.1</td> \n",
       "</tr>\n",
       "<tr>\n",
       "  <th>Date:</th>           <td>Mon, 10 Jun 2019</td> <th>  Deviance:          </th> <td>  5116.3</td> \n",
       "</tr>\n",
       "<tr>\n",
       "  <th>Time:</th>               <td>00:03:12</td>     <th>  Pearson chi2:      </th> <td>8.03e+03</td> \n",
       "</tr>\n",
       "<tr>\n",
       "  <th>No. Iterations:</th>        <td>22</td>        <th>  Covariance Type:   </th> <td>nonrobust</td>\n",
       "</tr>\n",
       "</table>\n",
       "<table class=\"simpletable\">\n",
       "<tr>\n",
       "                            <td></td>                              <th>coef</th>     <th>std err</th>      <th>z</th>      <th>P>|z|</th>  <th>[0.025</th>    <th>0.975]</th>  \n",
       "</tr>\n",
       "<tr>\n",
       "  <th>const</th>                                                <td>   -1.8364</td> <td>    0.057</td> <td>  -32.278</td> <td> 0.000</td> <td>   -1.948</td> <td>   -1.725</td>\n",
       "</tr>\n",
       "<tr>\n",
       "  <th>Do Not Email</th>                                         <td>   -1.2429</td> <td>    0.169</td> <td>   -7.368</td> <td> 0.000</td> <td>   -1.574</td> <td>   -0.912</td>\n",
       "</tr>\n",
       "<tr>\n",
       "  <th>Total Time Spent on Website</th>                          <td>    1.0932</td> <td>    0.041</td> <td>   26.932</td> <td> 0.000</td> <td>    1.014</td> <td>    1.173</td>\n",
       "</tr>\n",
       "<tr>\n",
       "  <th>Lead Origin_Lead Add Form</th>                            <td>    3.2979</td> <td>    0.196</td> <td>   16.801</td> <td> 0.000</td> <td>    2.913</td> <td>    3.683</td>\n",
       "</tr>\n",
       "<tr>\n",
       "  <th>Lead Source_Olark Chat</th>                               <td>    1.0081</td> <td>    0.100</td> <td>   10.035</td> <td> 0.000</td> <td>    0.811</td> <td>    1.205</td>\n",
       "</tr>\n",
       "<tr>\n",
       "  <th>Lead Source_Welingak Website</th>                         <td>    2.6342</td> <td>    0.748</td> <td>    3.522</td> <td> 0.000</td> <td>    1.168</td> <td>    4.100</td>\n",
       "</tr>\n",
       "<tr>\n",
       "  <th>Specialization_Hospitality Management</th>                <td>   -0.9141</td> <td>    0.340</td> <td>   -2.688</td> <td> 0.007</td> <td>   -1.581</td> <td>   -0.248</td>\n",
       "</tr>\n",
       "<tr>\n",
       "  <th>What is your current occupation_Working Professional</th> <td>    2.4976</td> <td>    0.193</td> <td>   12.944</td> <td> 0.000</td> <td>    2.119</td> <td>    2.876</td>\n",
       "</tr>\n",
       "<tr>\n",
       "  <th>Lead Profile_Dual Specialization Student</th>             <td>   23.8073</td> <td> 1.69e+04</td> <td>    0.001</td> <td> 0.999</td> <td>-3.31e+04</td> <td> 3.31e+04</td>\n",
       "</tr>\n",
       "<tr>\n",
       "  <th>Lead Profile_Lateral Student</th>                         <td>    3.1379</td> <td>    1.100</td> <td>    2.853</td> <td> 0.004</td> <td>    0.983</td> <td>    5.293</td>\n",
       "</tr>\n",
       "<tr>\n",
       "  <th>Lead Profile_Potential Lead</th>                          <td>    1.7672</td> <td>    0.097</td> <td>   18.224</td> <td> 0.000</td> <td>    1.577</td> <td>    1.957</td>\n",
       "</tr>\n",
       "<tr>\n",
       "  <th>Lead Profile_Student of SomeSchool</th>                   <td>   -1.6731</td> <td>    0.430</td> <td>   -3.895</td> <td> 0.000</td> <td>   -2.515</td> <td>   -0.831</td>\n",
       "</tr>\n",
       "<tr>\n",
       "  <th>Last Notable Activity_Had a Phone Conversation</th>       <td>    3.1348</td> <td>    1.159</td> <td>    2.704</td> <td> 0.007</td> <td>    0.863</td> <td>    5.407</td>\n",
       "</tr>\n",
       "<tr>\n",
       "  <th>Last Notable Activity_SMS Sent</th>                       <td>    1.7221</td> <td>    0.080</td> <td>   21.439</td> <td> 0.000</td> <td>    1.565</td> <td>    1.880</td>\n",
       "</tr>\n",
       "<tr>\n",
       "  <th>Last Notable Activity_Unreachable</th>                    <td>    1.6685</td> <td>    0.556</td> <td>    3.003</td> <td> 0.003</td> <td>    0.579</td> <td>    2.758</td>\n",
       "</tr>\n",
       "</table>"
      ],
      "text/plain": [
       "<class 'statsmodels.iolib.summary.Summary'>\n",
       "\"\"\"\n",
       "                 Generalized Linear Model Regression Results                  \n",
       "==============================================================================\n",
       "Dep. Variable:              Converted   No. Observations:                 6468\n",
       "Model:                            GLM   Df Residuals:                     6453\n",
       "Model Family:                Binomial   Df Model:                           14\n",
       "Link Function:                  logit   Scale:                          1.0000\n",
       "Method:                          IRLS   Log-Likelihood:                -2558.1\n",
       "Date:                Mon, 10 Jun 2019   Deviance:                       5116.3\n",
       "Time:                        00:03:12   Pearson chi2:                 8.03e+03\n",
       "No. Iterations:                    22   Covariance Type:             nonrobust\n",
       "========================================================================================================================\n",
       "                                                           coef    std err          z      P>|z|      [0.025      0.975]\n",
       "------------------------------------------------------------------------------------------------------------------------\n",
       "const                                                   -1.8364      0.057    -32.278      0.000      -1.948      -1.725\n",
       "Do Not Email                                            -1.2429      0.169     -7.368      0.000      -1.574      -0.912\n",
       "Total Time Spent on Website                              1.0932      0.041     26.932      0.000       1.014       1.173\n",
       "Lead Origin_Lead Add Form                                3.2979      0.196     16.801      0.000       2.913       3.683\n",
       "Lead Source_Olark Chat                                   1.0081      0.100     10.035      0.000       0.811       1.205\n",
       "Lead Source_Welingak Website                             2.6342      0.748      3.522      0.000       1.168       4.100\n",
       "Specialization_Hospitality Management                   -0.9141      0.340     -2.688      0.007      -1.581      -0.248\n",
       "What is your current occupation_Working Professional     2.4976      0.193     12.944      0.000       2.119       2.876\n",
       "Lead Profile_Dual Specialization Student                23.8073   1.69e+04      0.001      0.999   -3.31e+04    3.31e+04\n",
       "Lead Profile_Lateral Student                             3.1379      1.100      2.853      0.004       0.983       5.293\n",
       "Lead Profile_Potential Lead                              1.7672      0.097     18.224      0.000       1.577       1.957\n",
       "Lead Profile_Student of SomeSchool                      -1.6731      0.430     -3.895      0.000      -2.515      -0.831\n",
       "Last Notable Activity_Had a Phone Conversation           3.1348      1.159      2.704      0.007       0.863       5.407\n",
       "Last Notable Activity_SMS Sent                           1.7221      0.080     21.439      0.000       1.565       1.880\n",
       "Last Notable Activity_Unreachable                        1.6685      0.556      3.003      0.003       0.579       2.758\n",
       "========================================================================================================================\n",
       "\"\"\""
      ]
     },
     "execution_count": 69,
     "metadata": {},
     "output_type": "execute_result"
    }
   ],
   "source": [
    "mod2=sm.GLM(y_train,(sm.add_constant(X_trn)),family=sm.families.Binomial())\n",
    "mod2.fit().summary()"
   ]
  },
  {
   "cell_type": "code",
   "execution_count": 70,
   "metadata": {},
   "outputs": [
    {
     "data": {
      "text/html": [
       "<table class=\"simpletable\">\n",
       "<caption>Generalized Linear Model Regression Results</caption>\n",
       "<tr>\n",
       "  <th>Dep. Variable:</th>      <td>Converted</td>    <th>  No. Observations:  </th>  <td>  6468</td>  \n",
       "</tr>\n",
       "<tr>\n",
       "  <th>Model:</th>                 <td>GLM</td>       <th>  Df Residuals:      </th>  <td>  6454</td>  \n",
       "</tr>\n",
       "<tr>\n",
       "  <th>Model Family:</th>       <td>Binomial</td>     <th>  Df Model:          </th>  <td>    13</td>  \n",
       "</tr>\n",
       "<tr>\n",
       "  <th>Link Function:</th>        <td>logit</td>      <th>  Scale:             </th> <td>  1.0000</td> \n",
       "</tr>\n",
       "<tr>\n",
       "  <th>Method:</th>               <td>IRLS</td>       <th>  Log-Likelihood:    </th> <td> -2571.1</td> \n",
       "</tr>\n",
       "<tr>\n",
       "  <th>Date:</th>           <td>Mon, 10 Jun 2019</td> <th>  Deviance:          </th> <td>  5142.1</td> \n",
       "</tr>\n",
       "<tr>\n",
       "  <th>Time:</th>               <td>00:03:12</td>     <th>  Pearson chi2:      </th> <td>8.09e+03</td> \n",
       "</tr>\n",
       "<tr>\n",
       "  <th>No. Iterations:</th>         <td>7</td>        <th>  Covariance Type:   </th> <td>nonrobust</td>\n",
       "</tr>\n",
       "</table>\n",
       "<table class=\"simpletable\">\n",
       "<tr>\n",
       "                            <td></td>                              <th>coef</th>     <th>std err</th>      <th>z</th>      <th>P>|z|</th>  <th>[0.025</th>    <th>0.975]</th>  \n",
       "</tr>\n",
       "<tr>\n",
       "  <th>const</th>                                                <td>   -1.8262</td> <td>    0.057</td> <td>  -32.222</td> <td> 0.000</td> <td>   -1.937</td> <td>   -1.715</td>\n",
       "</tr>\n",
       "<tr>\n",
       "  <th>Do Not Email</th>                                         <td>   -1.2284</td> <td>    0.168</td> <td>   -7.332</td> <td> 0.000</td> <td>   -1.557</td> <td>   -0.900</td>\n",
       "</tr>\n",
       "<tr>\n",
       "  <th>Total Time Spent on Website</th>                          <td>    1.0954</td> <td>    0.041</td> <td>   27.009</td> <td> 0.000</td> <td>    1.016</td> <td>    1.175</td>\n",
       "</tr>\n",
       "<tr>\n",
       "  <th>Lead Origin_Lead Add Form</th>                            <td>    3.2909</td> <td>    0.196</td> <td>   16.775</td> <td> 0.000</td> <td>    2.906</td> <td>    3.675</td>\n",
       "</tr>\n",
       "<tr>\n",
       "  <th>Lead Source_Olark Chat</th>                               <td>    1.0090</td> <td>    0.100</td> <td>   10.071</td> <td> 0.000</td> <td>    0.813</td> <td>    1.205</td>\n",
       "</tr>\n",
       "<tr>\n",
       "  <th>Lead Source_Welingak Website</th>                         <td>    2.6309</td> <td>    0.748</td> <td>    3.518</td> <td> 0.000</td> <td>    1.165</td> <td>    4.097</td>\n",
       "</tr>\n",
       "<tr>\n",
       "  <th>Specialization_Hospitality Management</th>                <td>   -0.9256</td> <td>    0.340</td> <td>   -2.723</td> <td> 0.006</td> <td>   -1.592</td> <td>   -0.259</td>\n",
       "</tr>\n",
       "<tr>\n",
       "  <th>What is your current occupation_Working Professional</th> <td>    2.5291</td> <td>    0.192</td> <td>   13.169</td> <td> 0.000</td> <td>    2.153</td> <td>    2.906</td>\n",
       "</tr>\n",
       "<tr>\n",
       "  <th>Lead Profile_Lateral Student</th>                         <td>    3.1274</td> <td>    1.100</td> <td>    2.844</td> <td> 0.004</td> <td>    0.972</td> <td>    5.283</td>\n",
       "</tr>\n",
       "<tr>\n",
       "  <th>Lead Profile_Potential Lead</th>                          <td>    1.7558</td> <td>    0.097</td> <td>   18.115</td> <td> 0.000</td> <td>    1.566</td> <td>    1.946</td>\n",
       "</tr>\n",
       "<tr>\n",
       "  <th>Lead Profile_Student of SomeSchool</th>                   <td>   -1.6873</td> <td>    0.430</td> <td>   -3.925</td> <td> 0.000</td> <td>   -2.530</td> <td>   -0.845</td>\n",
       "</tr>\n",
       "<tr>\n",
       "  <th>Last Notable Activity_Had a Phone Conversation</th>       <td>    3.1293</td> <td>    1.159</td> <td>    2.701</td> <td> 0.007</td> <td>    0.858</td> <td>    5.400</td>\n",
       "</tr>\n",
       "<tr>\n",
       "  <th>Last Notable Activity_SMS Sent</th>                       <td>    1.7195</td> <td>    0.080</td> <td>   21.445</td> <td> 0.000</td> <td>    1.562</td> <td>    1.877</td>\n",
       "</tr>\n",
       "<tr>\n",
       "  <th>Last Notable Activity_Unreachable</th>                    <td>    1.6606</td> <td>    0.555</td> <td>    2.990</td> <td> 0.003</td> <td>    0.572</td> <td>    2.749</td>\n",
       "</tr>\n",
       "</table>"
      ],
      "text/plain": [
       "<class 'statsmodels.iolib.summary.Summary'>\n",
       "\"\"\"\n",
       "                 Generalized Linear Model Regression Results                  \n",
       "==============================================================================\n",
       "Dep. Variable:              Converted   No. Observations:                 6468\n",
       "Model:                            GLM   Df Residuals:                     6454\n",
       "Model Family:                Binomial   Df Model:                           13\n",
       "Link Function:                  logit   Scale:                          1.0000\n",
       "Method:                          IRLS   Log-Likelihood:                -2571.1\n",
       "Date:                Mon, 10 Jun 2019   Deviance:                       5142.1\n",
       "Time:                        00:03:12   Pearson chi2:                 8.09e+03\n",
       "No. Iterations:                     7   Covariance Type:             nonrobust\n",
       "========================================================================================================================\n",
       "                                                           coef    std err          z      P>|z|      [0.025      0.975]\n",
       "------------------------------------------------------------------------------------------------------------------------\n",
       "const                                                   -1.8262      0.057    -32.222      0.000      -1.937      -1.715\n",
       "Do Not Email                                            -1.2284      0.168     -7.332      0.000      -1.557      -0.900\n",
       "Total Time Spent on Website                              1.0954      0.041     27.009      0.000       1.016       1.175\n",
       "Lead Origin_Lead Add Form                                3.2909      0.196     16.775      0.000       2.906       3.675\n",
       "Lead Source_Olark Chat                                   1.0090      0.100     10.071      0.000       0.813       1.205\n",
       "Lead Source_Welingak Website                             2.6309      0.748      3.518      0.000       1.165       4.097\n",
       "Specialization_Hospitality Management                   -0.9256      0.340     -2.723      0.006      -1.592      -0.259\n",
       "What is your current occupation_Working Professional     2.5291      0.192     13.169      0.000       2.153       2.906\n",
       "Lead Profile_Lateral Student                             3.1274      1.100      2.844      0.004       0.972       5.283\n",
       "Lead Profile_Potential Lead                              1.7558      0.097     18.115      0.000       1.566       1.946\n",
       "Lead Profile_Student of SomeSchool                      -1.6873      0.430     -3.925      0.000      -2.530      -0.845\n",
       "Last Notable Activity_Had a Phone Conversation           3.1293      1.159      2.701      0.007       0.858       5.400\n",
       "Last Notable Activity_SMS Sent                           1.7195      0.080     21.445      0.000       1.562       1.877\n",
       "Last Notable Activity_Unreachable                        1.6606      0.555      2.990      0.003       0.572       2.749\n",
       "========================================================================================================================\n",
       "\"\"\""
      ]
     },
     "execution_count": 70,
     "metadata": {},
     "output_type": "execute_result"
    }
   ],
   "source": [
    "X_trn.drop(['Lead Profile_Dual Specialization Student'],axis=1,inplace=True)\n",
    "X_trncof=sm.add_constant(X_trn)\n",
    "mod3=sm.GLM(y_train,(X_trncof),family=sm.families.Binomial())\n",
    "res=mod3.fit()\n",
    "res.summary()"
   ]
  },
  {
   "cell_type": "code",
   "execution_count": 71,
   "metadata": {},
   "outputs": [],
   "source": [
    "def knowvif(X_train_new):\n",
    "    Vif=pd.DataFrame()\n",
    "    Vif['factors']=X_train_new.columns\n",
    "    Vif['vif']=[variance_inflation_factor(X_train_new.values,i) for i in range(X_train_new.shape[1])]\n",
    "    Vif['vif']=round(Vif['vif'],2)\n",
    "    return Vif.sort_values(by='vif',ascending=False)"
   ]
  },
  {
   "cell_type": "code",
   "execution_count": 72,
   "metadata": {},
   "outputs": [
    {
     "data": {
      "text/html": [
       "<div>\n",
       "<style scoped>\n",
       "    .dataframe tbody tr th:only-of-type {\n",
       "        vertical-align: middle;\n",
       "    }\n",
       "\n",
       "    .dataframe tbody tr th {\n",
       "        vertical-align: top;\n",
       "    }\n",
       "\n",
       "    .dataframe thead th {\n",
       "        text-align: right;\n",
       "    }\n",
       "</style>\n",
       "<table border=\"1\" class=\"dataframe\">\n",
       "  <thead>\n",
       "    <tr style=\"text-align: right;\">\n",
       "      <th></th>\n",
       "      <th>factors</th>\n",
       "      <th>vif</th>\n",
       "    </tr>\n",
       "  </thead>\n",
       "  <tbody>\n",
       "    <tr>\n",
       "      <th>2</th>\n",
       "      <td>Lead Origin_Lead Add Form</td>\n",
       "      <td>1.55</td>\n",
       "    </tr>\n",
       "    <tr>\n",
       "      <th>8</th>\n",
       "      <td>Lead Profile_Potential Lead</td>\n",
       "      <td>1.35</td>\n",
       "    </tr>\n",
       "    <tr>\n",
       "      <th>4</th>\n",
       "      <td>Lead Source_Welingak Website</td>\n",
       "      <td>1.26</td>\n",
       "    </tr>\n",
       "    <tr>\n",
       "      <th>1</th>\n",
       "      <td>Total Time Spent on Website</td>\n",
       "      <td>1.25</td>\n",
       "    </tr>\n",
       "    <tr>\n",
       "      <th>6</th>\n",
       "      <td>What is your current occupation_Working Profes...</td>\n",
       "      <td>1.23</td>\n",
       "    </tr>\n",
       "    <tr>\n",
       "      <th>3</th>\n",
       "      <td>Lead Source_Olark Chat</td>\n",
       "      <td>1.21</td>\n",
       "    </tr>\n",
       "    <tr>\n",
       "      <th>11</th>\n",
       "      <td>Last Notable Activity_SMS Sent</td>\n",
       "      <td>1.18</td>\n",
       "    </tr>\n",
       "    <tr>\n",
       "      <th>0</th>\n",
       "      <td>Do Not Email</td>\n",
       "      <td>1.03</td>\n",
       "    </tr>\n",
       "    <tr>\n",
       "      <th>9</th>\n",
       "      <td>Lead Profile_Student of SomeSchool</td>\n",
       "      <td>1.02</td>\n",
       "    </tr>\n",
       "    <tr>\n",
       "      <th>5</th>\n",
       "      <td>Specialization_Hospitality Management</td>\n",
       "      <td>1.01</td>\n",
       "    </tr>\n",
       "    <tr>\n",
       "      <th>7</th>\n",
       "      <td>Lead Profile_Lateral Student</td>\n",
       "      <td>1.01</td>\n",
       "    </tr>\n",
       "    <tr>\n",
       "      <th>10</th>\n",
       "      <td>Last Notable Activity_Had a Phone Conversation</td>\n",
       "      <td>1.01</td>\n",
       "    </tr>\n",
       "    <tr>\n",
       "      <th>12</th>\n",
       "      <td>Last Notable Activity_Unreachable</td>\n",
       "      <td>1.00</td>\n",
       "    </tr>\n",
       "  </tbody>\n",
       "</table>\n",
       "</div>"
      ],
      "text/plain": [
       "                                              factors   vif\n",
       "2                           Lead Origin_Lead Add Form  1.55\n",
       "8                         Lead Profile_Potential Lead  1.35\n",
       "4                        Lead Source_Welingak Website  1.26\n",
       "1                         Total Time Spent on Website  1.25\n",
       "6   What is your current occupation_Working Profes...  1.23\n",
       "3                              Lead Source_Olark Chat  1.21\n",
       "11                     Last Notable Activity_SMS Sent  1.18\n",
       "0                                        Do Not Email  1.03\n",
       "9                  Lead Profile_Student of SomeSchool  1.02\n",
       "5               Specialization_Hospitality Management  1.01\n",
       "7                        Lead Profile_Lateral Student  1.01\n",
       "10     Last Notable Activity_Had a Phone Conversation  1.01\n",
       "12                  Last Notable Activity_Unreachable  1.00"
      ]
     },
     "execution_count": 72,
     "metadata": {},
     "output_type": "execute_result"
    }
   ],
   "source": [
    "knowvif(X_trncof.drop('const',axis=1))"
   ]
  },
  {
   "cell_type": "code",
   "execution_count": 73,
   "metadata": {},
   "outputs": [],
   "source": [
    "y_train_pred=res.predict(X_trncof).values.reshape(-1)"
   ]
  },
  {
   "cell_type": "markdown",
   "metadata": {},
   "source": [
    "- Creating lead score as (probability that the record is the lead *100 ) rounding it to 2 decimal places."
   ]
  },
  {
   "cell_type": "code",
   "execution_count": 74,
   "metadata": {},
   "outputs": [
    {
     "data": {
      "text/html": [
       "<div>\n",
       "<style scoped>\n",
       "    .dataframe tbody tr th:only-of-type {\n",
       "        vertical-align: middle;\n",
       "    }\n",
       "\n",
       "    .dataframe tbody tr th {\n",
       "        vertical-align: top;\n",
       "    }\n",
       "\n",
       "    .dataframe thead th {\n",
       "        text-align: right;\n",
       "    }\n",
       "</style>\n",
       "<table border=\"1\" class=\"dataframe\">\n",
       "  <thead>\n",
       "    <tr style=\"text-align: right;\">\n",
       "      <th></th>\n",
       "      <th>YTrainProbability</th>\n",
       "      <th>LeadStatus</th>\n",
       "      <th>CustID</th>\n",
       "    </tr>\n",
       "  </thead>\n",
       "  <tbody>\n",
       "    <tr>\n",
       "      <th>0</th>\n",
       "      <td>0.143444</td>\n",
       "      <td>0</td>\n",
       "      <td>1871</td>\n",
       "    </tr>\n",
       "    <tr>\n",
       "      <th>1</th>\n",
       "      <td>0.139442</td>\n",
       "      <td>0</td>\n",
       "      <td>6795</td>\n",
       "    </tr>\n",
       "    <tr>\n",
       "      <th>2</th>\n",
       "      <td>0.171573</td>\n",
       "      <td>0</td>\n",
       "      <td>3516</td>\n",
       "    </tr>\n",
       "    <tr>\n",
       "      <th>3</th>\n",
       "      <td>0.800394</td>\n",
       "      <td>0</td>\n",
       "      <td>8105</td>\n",
       "    </tr>\n",
       "    <tr>\n",
       "      <th>4</th>\n",
       "      <td>0.143444</td>\n",
       "      <td>0</td>\n",
       "      <td>3934</td>\n",
       "    </tr>\n",
       "  </tbody>\n",
       "</table>\n",
       "</div>"
      ],
      "text/plain": [
       "   YTrainProbability  LeadStatus  CustID\n",
       "0           0.143444           0    1871\n",
       "1           0.139442           0    6795\n",
       "2           0.171573           0    3516\n",
       "3           0.800394           0    8105\n",
       "4           0.143444           0    3934"
      ]
     },
     "execution_count": 74,
     "metadata": {},
     "output_type": "execute_result"
    }
   ],
   "source": [
    "y_train_pred_final = pd.DataFrame({'YTrainProbability':y_train_pred, 'LeadStatus':y_train.values})\n",
    "y_train_pred_final['CustID'] = y_train.index\n",
    "y_train_pred_final.head()"
   ]
  },
  {
   "cell_type": "code",
   "execution_count": 75,
   "metadata": {},
   "outputs": [],
   "source": [
    "y_train_pred_final['LeadScore']=round(y_train_pred_final['YTrainProbability']*100,2)"
   ]
  },
  {
   "cell_type": "code",
   "execution_count": 76,
   "metadata": {},
   "outputs": [
    {
     "data": {
      "text/html": [
       "<div>\n",
       "<style scoped>\n",
       "    .dataframe tbody tr th:only-of-type {\n",
       "        vertical-align: middle;\n",
       "    }\n",
       "\n",
       "    .dataframe tbody tr th {\n",
       "        vertical-align: top;\n",
       "    }\n",
       "\n",
       "    .dataframe thead th {\n",
       "        text-align: right;\n",
       "    }\n",
       "</style>\n",
       "<table border=\"1\" class=\"dataframe\">\n",
       "  <thead>\n",
       "    <tr style=\"text-align: right;\">\n",
       "      <th></th>\n",
       "      <th>YTrainProbability</th>\n",
       "      <th>LeadStatus</th>\n",
       "      <th>CustID</th>\n",
       "      <th>LeadScore</th>\n",
       "    </tr>\n",
       "  </thead>\n",
       "  <tbody>\n",
       "    <tr>\n",
       "      <th>6463</th>\n",
       "      <td>0.973974</td>\n",
       "      <td>1</td>\n",
       "      <td>350</td>\n",
       "      <td>97.40</td>\n",
       "    </tr>\n",
       "    <tr>\n",
       "      <th>6464</th>\n",
       "      <td>0.994869</td>\n",
       "      <td>1</td>\n",
       "      <td>79</td>\n",
       "      <td>99.49</td>\n",
       "    </tr>\n",
       "    <tr>\n",
       "      <th>6465</th>\n",
       "      <td>0.143444</td>\n",
       "      <td>1</td>\n",
       "      <td>8039</td>\n",
       "      <td>14.34</td>\n",
       "    </tr>\n",
       "    <tr>\n",
       "      <th>6466</th>\n",
       "      <td>0.089562</td>\n",
       "      <td>0</td>\n",
       "      <td>6936</td>\n",
       "      <td>8.96</td>\n",
       "    </tr>\n",
       "    <tr>\n",
       "      <th>6467</th>\n",
       "      <td>0.143444</td>\n",
       "      <td>0</td>\n",
       "      <td>5640</td>\n",
       "      <td>14.34</td>\n",
       "    </tr>\n",
       "  </tbody>\n",
       "</table>\n",
       "</div>"
      ],
      "text/plain": [
       "      YTrainProbability  LeadStatus  CustID  LeadScore\n",
       "6463           0.973974           1     350      97.40\n",
       "6464           0.994869           1      79      99.49\n",
       "6465           0.143444           1    8039      14.34\n",
       "6466           0.089562           0    6936       8.96\n",
       "6467           0.143444           0    5640      14.34"
      ]
     },
     "execution_count": 76,
     "metadata": {},
     "output_type": "execute_result"
    }
   ],
   "source": [
    "y_train_pred_final.tail()"
   ]
  },
  {
   "cell_type": "markdown",
   "metadata": {},
   "source": [
    "- In order to decide the cut off we ROC curve and see the accuracy,sensitivity and specificity.\n",
    "- This is done by looking into confusion matrix."
   ]
  },
  {
   "cell_type": "code",
   "execution_count": 77,
   "metadata": {},
   "outputs": [],
   "source": [
    "from sklearn import metrics"
   ]
  },
  {
   "cell_type": "code",
   "execution_count": 78,
   "metadata": {},
   "outputs": [],
   "source": [
    "def draw_roc( actual, probs ):\n",
    "    fpr, tpr, thresholds = metrics.roc_curve( actual, probs,\n",
    "                                              drop_intermediate = False )\n",
    "    auc_score = metrics.roc_auc_score( actual, probs )\n",
    "    plt.figure(figsize=(5, 5))\n",
    "    plt.plot( fpr, tpr, label='ROC curve (area = %0.2f)' % auc_score )\n",
    "    plt.plot([0, 1], [0, 1], 'k--')\n",
    "    plt.xlim([0.0, 1.0])\n",
    "    plt.ylim([0.0, 1.05])\n",
    "    plt.xlabel('False Positive Rate or [1 - True Negative Rate]')\n",
    "    plt.ylabel('True Positive Rate')\n",
    "    plt.title('Receiver operating characteristic example')\n",
    "    plt.legend(loc=\"lower right\")\n",
    "    plt.show()\n",
    "\n",
    "    return None"
   ]
  },
  {
   "cell_type": "code",
   "execution_count": 79,
   "metadata": {},
   "outputs": [],
   "source": [
    "fpr, tpr, thresholds = metrics.roc_curve( y_train_pred_final.LeadStatus, y_train_pred_final.YTrainProbability, drop_intermediate = False )"
   ]
  },
  {
   "cell_type": "code",
   "execution_count": 80,
   "metadata": {},
   "outputs": [
    {
     "data": {
      "image/png": "[encoded data removed]",
      "text/plain": [
       "<Figure size 360x360 with 1 Axes>"
      ]
     },
     "metadata": {},
     "output_type": "display_data"
    }
   ],
   "source": [
    "draw_roc(y_train_pred_final.LeadStatus, y_train_pred_final.YTrainProbability)"
   ]
  },
  {
   "cell_type": "code",
   "execution_count": 81,
   "metadata": {},
   "outputs": [
    {
     "data": {
      "text/html": [
       "<div>\n",
       "<style scoped>\n",
       "    .dataframe tbody tr th:only-of-type {\n",
       "        vertical-align: middle;\n",
       "    }\n",
       "\n",
       "    .dataframe tbody tr th {\n",
       "        vertical-align: top;\n",
       "    }\n",
       "\n",
       "    .dataframe thead th {\n",
       "        text-align: right;\n",
       "    }\n",
       "</style>\n",
       "<table border=\"1\" class=\"dataframe\">\n",
       "  <thead>\n",
       "    <tr style=\"text-align: right;\">\n",
       "      <th></th>\n",
       "      <th>YTrainProbability</th>\n",
       "      <th>LeadStatus</th>\n",
       "      <th>CustID</th>\n",
       "      <th>LeadScore</th>\n",
       "      <th>0.0</th>\n",
       "      <th>0.1</th>\n",
       "      <th>0.2</th>\n",
       "      <th>0.3</th>\n",
       "      <th>0.4</th>\n",
       "      <th>0.5</th>\n",
       "      <th>0.6</th>\n",
       "      <th>0.7</th>\n",
       "      <th>0.8</th>\n",
       "      <th>0.9</th>\n",
       "    </tr>\n",
       "  </thead>\n",
       "  <tbody>\n",
       "    <tr>\n",
       "      <th>0</th>\n",
       "      <td>0.143444</td>\n",
       "      <td>0</td>\n",
       "      <td>1871</td>\n",
       "      <td>14.34</td>\n",
       "      <td>1</td>\n",
       "      <td>1</td>\n",
       "      <td>0</td>\n",
       "      <td>0</td>\n",
       "      <td>0</td>\n",
       "      <td>0</td>\n",
       "      <td>0</td>\n",
       "      <td>0</td>\n",
       "      <td>0</td>\n",
       "      <td>0</td>\n",
       "    </tr>\n",
       "    <tr>\n",
       "      <th>1</th>\n",
       "      <td>0.139442</td>\n",
       "      <td>0</td>\n",
       "      <td>6795</td>\n",
       "      <td>13.94</td>\n",
       "      <td>1</td>\n",
       "      <td>1</td>\n",
       "      <td>0</td>\n",
       "      <td>0</td>\n",
       "      <td>0</td>\n",
       "      <td>0</td>\n",
       "      <td>0</td>\n",
       "      <td>0</td>\n",
       "      <td>0</td>\n",
       "      <td>0</td>\n",
       "    </tr>\n",
       "    <tr>\n",
       "      <th>2</th>\n",
       "      <td>0.171573</td>\n",
       "      <td>0</td>\n",
       "      <td>3516</td>\n",
       "      <td>17.16</td>\n",
       "      <td>1</td>\n",
       "      <td>1</td>\n",
       "      <td>0</td>\n",
       "      <td>0</td>\n",
       "      <td>0</td>\n",
       "      <td>0</td>\n",
       "      <td>0</td>\n",
       "      <td>0</td>\n",
       "      <td>0</td>\n",
       "      <td>0</td>\n",
       "    </tr>\n",
       "    <tr>\n",
       "      <th>3</th>\n",
       "      <td>0.800394</td>\n",
       "      <td>0</td>\n",
       "      <td>8105</td>\n",
       "      <td>80.04</td>\n",
       "      <td>1</td>\n",
       "      <td>1</td>\n",
       "      <td>1</td>\n",
       "      <td>1</td>\n",
       "      <td>1</td>\n",
       "      <td>1</td>\n",
       "      <td>1</td>\n",
       "      <td>1</td>\n",
       "      <td>1</td>\n",
       "      <td>0</td>\n",
       "    </tr>\n",
       "    <tr>\n",
       "      <th>4</th>\n",
       "      <td>0.143444</td>\n",
       "      <td>0</td>\n",
       "      <td>3934</td>\n",
       "      <td>14.34</td>\n",
       "      <td>1</td>\n",
       "      <td>1</td>\n",
       "      <td>0</td>\n",
       "      <td>0</td>\n",
       "      <td>0</td>\n",
       "      <td>0</td>\n",
       "      <td>0</td>\n",
       "      <td>0</td>\n",
       "      <td>0</td>\n",
       "      <td>0</td>\n",
       "    </tr>\n",
       "  </tbody>\n",
       "</table>\n",
       "</div>"
      ],
      "text/plain": [
       "   YTrainProbability  LeadStatus  CustID  LeadScore  0.0  0.1  0.2  0.3  0.4  \\\n",
       "0           0.143444           0    1871      14.34    1    1    0    0    0   \n",
       "1           0.139442           0    6795      13.94    1    1    0    0    0   \n",
       "2           0.171573           0    3516      17.16    1    1    0    0    0   \n",
       "3           0.800394           0    8105      80.04    1    1    1    1    1   \n",
       "4           0.143444           0    3934      14.34    1    1    0    0    0   \n",
       "\n",
       "   0.5  0.6  0.7  0.8  0.9  \n",
       "0    0    0    0    0    0  \n",
       "1    0    0    0    0    0  \n",
       "2    0    0    0    0    0  \n",
       "3    1    1    1    1    0  \n",
       "4    0    0    0    0    0  "
      ]
     },
     "execution_count": 81,
     "metadata": {},
     "output_type": "execute_result"
    }
   ],
   "source": [
    "# Let's create columns with different probability cutoffs \n",
    "numbers = [float(x)/10 for x in range(10)]\n",
    "for i in numbers:\n",
    "    y_train_pred_final[i]= y_train_pred_final.YTrainProbability.map(lambda x: 1 if x > i else 0)\n",
    "y_train_pred_final.head()"
   ]
  },
  {
   "cell_type": "code",
   "execution_count": 82,
   "metadata": {},
   "outputs": [
    {
     "name": "stdout",
     "output_type": "stream",
     "text": [
      "     prob  accuracy     sensi     speci\n",
      "0.0   0.0  0.381262  1.000000  0.000000\n",
      "0.1   0.1  0.618738  0.962693  0.406797\n",
      "0.2   0.2  0.791126  0.899432  0.724388\n",
      "0.3   0.3  0.807669  0.852393  0.780110\n",
      "0.4   0.4  0.821583  0.780616  0.846827\n",
      "0.5   0.5  0.818027  0.675588  0.905797\n",
      "0.6   0.6  0.815553  0.629765  0.930035\n",
      "0.7   0.7  0.798237  0.551500  0.950275\n",
      "0.8   0.8  0.776592  0.462287  0.970265\n",
      "0.9   0.9  0.737631  0.334955  0.985757\n"
     ]
    }
   ],
   "source": [
    "\n",
    "cutoff_df = pd.DataFrame( columns = ['prob','accuracy','sensi','speci'])\n",
    "from sklearn.metrics import confusion_matrix\n",
    "\n",
    "num = [0.0,0.1,0.2,0.3,0.4,0.5,0.6,0.7,0.8,0.9]\n",
    "for i in num:\n",
    "    cm1 = metrics.confusion_matrix(y_train_pred_final.LeadStatus, y_train_pred_final[i] )\n",
    "    total1=sum(sum(cm1))\n",
    "    accuracy = (cm1[0,0]+cm1[1,1])/total1\n",
    "    \n",
    "    speci = cm1[0,0]/(cm1[0,0]+cm1[0,1])\n",
    "    sensi = cm1[1,1]/(cm1[1,0]+cm1[1,1])\n",
    "    cutoff_df.loc[i] =[ i ,accuracy,sensi,speci]\n",
    "print(cutoff_df)"
   ]
  },
  {
   "cell_type": "code",
   "execution_count": 83,
   "metadata": {},
   "outputs": [
    {
     "data": {
      "image/png": "[encoded data removed]",
      "text/plain": [
       "<Figure size 432x288 with 1 Axes>"
      ]
     },
     "metadata": {},
     "output_type": "display_data"
    }
   ],
   "source": [
    "cutoff_df.plot.line(x='prob', y=['accuracy','sensi','speci'])\n",
    "plt.show()"
   ]
  },
  {
   "cell_type": "markdown",
   "metadata": {},
   "source": [
    "- We can see from the above graph cutoff probability that compromises all the parameters accuracy,sensitivity and specificity is 0.35."
   ]
  },
  {
   "cell_type": "markdown",
   "metadata": {},
   "source": [
    "- if the probability is >0.35 than he is a potential lead else otherwise."
   ]
  },
  {
   "cell_type": "code",
   "execution_count": 84,
   "metadata": {},
   "outputs": [
    {
     "data": {
      "text/html": [
       "<div>\n",
       "<style scoped>\n",
       "    .dataframe tbody tr th:only-of-type {\n",
       "        vertical-align: middle;\n",
       "    }\n",
       "\n",
       "    .dataframe tbody tr th {\n",
       "        vertical-align: top;\n",
       "    }\n",
       "\n",
       "    .dataframe thead th {\n",
       "        text-align: right;\n",
       "    }\n",
       "</style>\n",
       "<table border=\"1\" class=\"dataframe\">\n",
       "  <thead>\n",
       "    <tr style=\"text-align: right;\">\n",
       "      <th></th>\n",
       "      <th>YTrainProbability</th>\n",
       "      <th>LeadStatus</th>\n",
       "      <th>CustID</th>\n",
       "      <th>LeadScore</th>\n",
       "      <th>0.0</th>\n",
       "      <th>0.1</th>\n",
       "      <th>0.2</th>\n",
       "      <th>0.3</th>\n",
       "      <th>0.4</th>\n",
       "      <th>0.5</th>\n",
       "      <th>0.6</th>\n",
       "      <th>0.7</th>\n",
       "      <th>0.8</th>\n",
       "      <th>0.9</th>\n",
       "      <th>final_predicted</th>\n",
       "    </tr>\n",
       "  </thead>\n",
       "  <tbody>\n",
       "    <tr>\n",
       "      <th>0</th>\n",
       "      <td>0.143444</td>\n",
       "      <td>0</td>\n",
       "      <td>1871</td>\n",
       "      <td>14.34</td>\n",
       "      <td>1</td>\n",
       "      <td>1</td>\n",
       "      <td>0</td>\n",
       "      <td>0</td>\n",
       "      <td>0</td>\n",
       "      <td>0</td>\n",
       "      <td>0</td>\n",
       "      <td>0</td>\n",
       "      <td>0</td>\n",
       "      <td>0</td>\n",
       "      <td>0</td>\n",
       "    </tr>\n",
       "    <tr>\n",
       "      <th>1</th>\n",
       "      <td>0.139442</td>\n",
       "      <td>0</td>\n",
       "      <td>6795</td>\n",
       "      <td>13.94</td>\n",
       "      <td>1</td>\n",
       "      <td>1</td>\n",
       "      <td>0</td>\n",
       "      <td>0</td>\n",
       "      <td>0</td>\n",
       "      <td>0</td>\n",
       "      <td>0</td>\n",
       "      <td>0</td>\n",
       "      <td>0</td>\n",
       "      <td>0</td>\n",
       "      <td>0</td>\n",
       "    </tr>\n",
       "    <tr>\n",
       "      <th>2</th>\n",
       "      <td>0.171573</td>\n",
       "      <td>0</td>\n",
       "      <td>3516</td>\n",
       "      <td>17.16</td>\n",
       "      <td>1</td>\n",
       "      <td>1</td>\n",
       "      <td>0</td>\n",
       "      <td>0</td>\n",
       "      <td>0</td>\n",
       "      <td>0</td>\n",
       "      <td>0</td>\n",
       "      <td>0</td>\n",
       "      <td>0</td>\n",
       "      <td>0</td>\n",
       "      <td>0</td>\n",
       "    </tr>\n",
       "    <tr>\n",
       "      <th>3</th>\n",
       "      <td>0.800394</td>\n",
       "      <td>0</td>\n",
       "      <td>8105</td>\n",
       "      <td>80.04</td>\n",
       "      <td>1</td>\n",
       "      <td>1</td>\n",
       "      <td>1</td>\n",
       "      <td>1</td>\n",
       "      <td>1</td>\n",
       "      <td>1</td>\n",
       "      <td>1</td>\n",
       "      <td>1</td>\n",
       "      <td>1</td>\n",
       "      <td>0</td>\n",
       "      <td>1</td>\n",
       "    </tr>\n",
       "    <tr>\n",
       "      <th>4</th>\n",
       "      <td>0.143444</td>\n",
       "      <td>0</td>\n",
       "      <td>3934</td>\n",
       "      <td>14.34</td>\n",
       "      <td>1</td>\n",
       "      <td>1</td>\n",
       "      <td>0</td>\n",
       "      <td>0</td>\n",
       "      <td>0</td>\n",
       "      <td>0</td>\n",
       "      <td>0</td>\n",
       "      <td>0</td>\n",
       "      <td>0</td>\n",
       "      <td>0</td>\n",
       "      <td>0</td>\n",
       "    </tr>\n",
       "  </tbody>\n",
       "</table>\n",
       "</div>"
      ],
      "text/plain": [
       "   YTrainProbability  LeadStatus  CustID  LeadScore  0.0  0.1  0.2  0.3  0.4  \\\n",
       "0           0.143444           0    1871      14.34    1    1    0    0    0   \n",
       "1           0.139442           0    6795      13.94    1    1    0    0    0   \n",
       "2           0.171573           0    3516      17.16    1    1    0    0    0   \n",
       "3           0.800394           0    8105      80.04    1    1    1    1    1   \n",
       "4           0.143444           0    3934      14.34    1    1    0    0    0   \n",
       "\n",
       "   0.5  0.6  0.7  0.8  0.9  final_predicted  \n",
       "0    0    0    0    0    0                0  \n",
       "1    0    0    0    0    0                0  \n",
       "2    0    0    0    0    0                0  \n",
       "3    1    1    1    1    0                1  \n",
       "4    0    0    0    0    0                0  "
      ]
     },
     "execution_count": 84,
     "metadata": {},
     "output_type": "execute_result"
    }
   ],
   "source": [
    "y_train_pred_final['final_predicted'] = y_train_pred_final.YTrainProbability.map( lambda x: 1 if x > 0.35 else 0)\n",
    "\n",
    "y_train_pred_final.head()"
   ]
  },
  {
   "cell_type": "code",
   "execution_count": 85,
   "metadata": {},
   "outputs": [
    {
     "data": {
      "text/plain": [
       "0.8152442795299938"
      ]
     },
     "execution_count": 85,
     "metadata": {},
     "output_type": "execute_result"
    }
   ],
   "source": [
    "metrics.accuracy_score(y_train_pred_final.LeadStatus, y_train_pred_final.final_predicted)"
   ]
  },
  {
   "cell_type": "code",
   "execution_count": 86,
   "metadata": {},
   "outputs": [
    {
     "data": {
      "text/plain": [
       "array([[3255,  747],\n",
       "       [ 448, 2018]], dtype=int64)"
      ]
     },
     "execution_count": 86,
     "metadata": {},
     "output_type": "execute_result"
    }
   ],
   "source": [
    "confusion = metrics.confusion_matrix(y_train_pred_final.LeadStatus, y_train_pred_final.final_predicted )\n",
    "confusion"
   ]
  },
  {
   "cell_type": "code",
   "execution_count": 87,
   "metadata": {},
   "outputs": [],
   "source": [
    "TP = confusion[1,1] # true positive \n",
    "TN = confusion[0,0] # true negatives\n",
    "FP = confusion[0,1] # false positives\n",
    "FN = confusion[1,0] # false negatives"
   ]
  },
  {
   "cell_type": "code",
   "execution_count": 88,
   "metadata": {},
   "outputs": [
    {
     "data": {
      "text/plain": [
       "0.8183292781832928"
      ]
     },
     "execution_count": 88,
     "metadata": {},
     "output_type": "execute_result"
    }
   ],
   "source": [
    "# Let's see the sensitivity of our logistic regression model\n",
    "TP / float(TP+FN)"
   ]
  },
  {
   "cell_type": "markdown",
   "metadata": {},
   "source": [
    "- sensitivity=81.83%"
   ]
  },
  {
   "cell_type": "code",
   "execution_count": 89,
   "metadata": {},
   "outputs": [
    {
     "data": {
      "text/plain": [
       "0.8133433283358321"
      ]
     },
     "execution_count": 89,
     "metadata": {},
     "output_type": "execute_result"
    }
   ],
   "source": [
    "# Let us calculate specificity\n",
    "TN / float(TN+FP)"
   ]
  },
  {
   "cell_type": "markdown",
   "metadata": {},
   "source": [
    "- specificity=81.33"
   ]
  },
  {
   "cell_type": "code",
   "execution_count": 90,
   "metadata": {},
   "outputs": [
    {
     "name": "stdout",
     "output_type": "stream",
     "text": [
      "0.1866566716641679\n"
     ]
    }
   ],
   "source": [
    "# Calculate false postive rate - predicting customer as lead when customer is not a potential lead\n",
    "print(FP/ float(TN+FP))"
   ]
  },
  {
   "cell_type": "code",
   "execution_count": 91,
   "metadata": {},
   "outputs": [
    {
     "name": "stdout",
     "output_type": "stream",
     "text": [
      "0.7298372513562387\n"
     ]
    }
   ],
   "source": [
    "# Positive predictive value \n",
    "print (TP / float(TP+FP))"
   ]
  },
  {
   "cell_type": "code",
   "execution_count": 92,
   "metadata": {},
   "outputs": [
    {
     "name": "stdout",
     "output_type": "stream",
     "text": [
      "0.8790170132325141\n"
     ]
    }
   ],
   "source": [
    "# Negative predictive value\n",
    "print (TN / float(TN+ FN))"
   ]
  },
  {
   "cell_type": "markdown",
   "metadata": {},
   "source": [
    "- We perform similar operation on test and see the value of parameters."
   ]
  },
  {
   "cell_type": "code",
   "execution_count": 93,
   "metadata": {},
   "outputs": [],
   "source": [
    "X_test[['TotalVisits','Total Time Spent on Website', 'Page Views Per Visit']]=scalar.transform(X_test[['TotalVisits','Total Time Spent on Website', 'Page Views Per Visit']])"
   ]
  },
  {
   "cell_type": "code",
   "execution_count": 94,
   "metadata": {},
   "outputs": [],
   "source": [
    "X_test_cols=X_test[X_trn.columns]"
   ]
  },
  {
   "cell_type": "code",
   "execution_count": 95,
   "metadata": {},
   "outputs": [],
   "source": [
    "X_test_cons=sm.add_constant(X_test_cols)"
   ]
  },
  {
   "cell_type": "code",
   "execution_count": 96,
   "metadata": {},
   "outputs": [],
   "source": [
    "y_test_pred=res.predict(X_test_cons)"
   ]
  },
  {
   "cell_type": "code",
   "execution_count": 97,
   "metadata": {},
   "outputs": [],
   "source": [
    "y_test_final=pd.DataFrame(y_test.values,columns=['LeadStatus'])"
   ]
  },
  {
   "cell_type": "code",
   "execution_count": 98,
   "metadata": {},
   "outputs": [],
   "source": [
    "y_test_final['CustID']=y_test.index"
   ]
  },
  {
   "cell_type": "code",
   "execution_count": 99,
   "metadata": {},
   "outputs": [],
   "source": [
    "y_test_final.reset_index(drop=True,inplace=True)\n",
    "y_test_pred.reset_index(drop=True,inplace=True)"
   ]
  },
  {
   "cell_type": "code",
   "execution_count": 100,
   "metadata": {},
   "outputs": [],
   "source": [
    "y_test_final['YTestPred']=y_test_pred"
   ]
  },
  {
   "cell_type": "code",
   "execution_count": 101,
   "metadata": {},
   "outputs": [],
   "source": [
    "y_test_final['PredLeadStatus']=y_test_final.YTestPred.map(lambda x: 1 if x>0.35 else 0)"
   ]
  },
  {
   "cell_type": "code",
   "execution_count": 102,
   "metadata": {},
   "outputs": [],
   "source": [
    "y_test_final['leadScore']=round(y_test_final.YTestPred*100,2)"
   ]
  },
  {
   "cell_type": "code",
   "execution_count": 103,
   "metadata": {},
   "outputs": [
    {
     "data": {
      "text/html": [
       "<div>\n",
       "<style scoped>\n",
       "    .dataframe tbody tr th:only-of-type {\n",
       "        vertical-align: middle;\n",
       "    }\n",
       "\n",
       "    .dataframe tbody tr th {\n",
       "        vertical-align: top;\n",
       "    }\n",
       "\n",
       "    .dataframe thead th {\n",
       "        text-align: right;\n",
       "    }\n",
       "</style>\n",
       "<table border=\"1\" class=\"dataframe\">\n",
       "  <thead>\n",
       "    <tr style=\"text-align: right;\">\n",
       "      <th></th>\n",
       "      <th>LeadStatus</th>\n",
       "      <th>CustID</th>\n",
       "      <th>YTestPred</th>\n",
       "      <th>PredLeadStatus</th>\n",
       "      <th>leadScore</th>\n",
       "    </tr>\n",
       "  </thead>\n",
       "  <tbody>\n",
       "    <tr>\n",
       "      <th>0</th>\n",
       "      <td>1</td>\n",
       "      <td>4269</td>\n",
       "      <td>0.721078</td>\n",
       "      <td>1</td>\n",
       "      <td>72.11</td>\n",
       "    </tr>\n",
       "    <tr>\n",
       "      <th>1</th>\n",
       "      <td>1</td>\n",
       "      <td>2376</td>\n",
       "      <td>0.901536</td>\n",
       "      <td>1</td>\n",
       "      <td>90.15</td>\n",
       "    </tr>\n",
       "    <tr>\n",
       "      <th>2</th>\n",
       "      <td>1</td>\n",
       "      <td>7766</td>\n",
       "      <td>0.819344</td>\n",
       "      <td>1</td>\n",
       "      <td>81.93</td>\n",
       "    </tr>\n",
       "    <tr>\n",
       "      <th>3</th>\n",
       "      <td>0</td>\n",
       "      <td>9199</td>\n",
       "      <td>0.492217</td>\n",
       "      <td>1</td>\n",
       "      <td>49.22</td>\n",
       "    </tr>\n",
       "    <tr>\n",
       "      <th>4</th>\n",
       "      <td>1</td>\n",
       "      <td>4359</td>\n",
       "      <td>0.904716</td>\n",
       "      <td>1</td>\n",
       "      <td>90.47</td>\n",
       "    </tr>\n",
       "  </tbody>\n",
       "</table>\n",
       "</div>"
      ],
      "text/plain": [
       "   LeadStatus  CustID  YTestPred  PredLeadStatus  leadScore\n",
       "0           1    4269   0.721078               1      72.11\n",
       "1           1    2376   0.901536               1      90.15\n",
       "2           1    7766   0.819344               1      81.93\n",
       "3           0    9199   0.492217               1      49.22\n",
       "4           1    4359   0.904716               1      90.47"
      ]
     },
     "execution_count": 103,
     "metadata": {},
     "output_type": "execute_result"
    }
   ],
   "source": [
    "y_test_final.head()"
   ]
  },
  {
   "cell_type": "code",
   "execution_count": 104,
   "metadata": {},
   "outputs": [
    {
     "data": {
      "text/plain": [
       "0.81998556998557"
      ]
     },
     "execution_count": 104,
     "metadata": {},
     "output_type": "execute_result"
    }
   ],
   "source": [
    "metrics.accuracy_score(y_test_final.LeadStatus,y_test_final.PredLeadStatus)"
   ]
  },
  {
   "cell_type": "markdown",
   "metadata": {},
   "source": [
    "- accuracy=82% from above."
   ]
  },
  {
   "cell_type": "code",
   "execution_count": 105,
   "metadata": {},
   "outputs": [],
   "source": [
    "confusion2=metrics.confusion_matrix(y_test_final.LeadStatus,y_test_final.PredLeadStatus)"
   ]
  },
  {
   "cell_type": "code",
   "execution_count": 106,
   "metadata": {},
   "outputs": [
    {
     "data": {
      "text/plain": [
       "array([[1393,  284],\n",
       "       [ 215,  880]], dtype=int64)"
      ]
     },
     "execution_count": 106,
     "metadata": {},
     "output_type": "execute_result"
    }
   ],
   "source": [
    "confusion2"
   ]
  },
  {
   "cell_type": "code",
   "execution_count": 107,
   "metadata": {},
   "outputs": [],
   "source": [
    "TP = confusion2[1,1] # true positive \n",
    "TN = confusion2[0,0] # true negatives\n",
    "FP = confusion2[0,1] # false positives\n",
    "FN = confusion2[1,0] # false negatives"
   ]
  },
  {
   "cell_type": "code",
   "execution_count": 108,
   "metadata": {},
   "outputs": [
    {
     "data": {
      "text/plain": [
       "0.8036529680365296"
      ]
     },
     "execution_count": 108,
     "metadata": {},
     "output_type": "execute_result"
    }
   ],
   "source": [
    "# Let's see the sensitivity of our logistic regression model\n",
    "TP / float(TP+FN)"
   ]
  },
  {
   "cell_type": "markdown",
   "metadata": {},
   "source": [
    "- sensitivity=80.36% from above."
   ]
  },
  {
   "cell_type": "code",
   "execution_count": 109,
   "metadata": {},
   "outputs": [
    {
     "data": {
      "text/plain": [
       "0.8306499701848539"
      ]
     },
     "execution_count": 109,
     "metadata": {},
     "output_type": "execute_result"
    }
   ],
   "source": [
    "# Let us calculate specificity\n",
    "TN / float(TN+FP)"
   ]
  },
  {
   "cell_type": "markdown",
   "metadata": {},
   "source": [
    "- specificity=83% from above."
   ]
  },
  {
   "cell_type": "code",
   "execution_count": null,
   "metadata": {},
   "outputs": [],
   "source": []
  }
 ],
 "metadata": {
  "kernelspec": {
   "display_name": "Python 3",
   "language": "python",
   "name": "python3"
  },
  "language_info": {
   "codemirror_mode": {
    "name": "ipython",
    "version": 3
   },
   "file_extension": ".py",
   "mimetype": "text/x-python",
   "name": "python",
   "nbconvert_exporter": "python",
   "pygments_lexer": "ipython3",
   "version": "3.6.5"
  }
 },
 "nbformat": 4,
 "nbformat_minor": 2
}
